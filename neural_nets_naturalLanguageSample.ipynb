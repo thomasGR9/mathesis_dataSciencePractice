{
 "cells": [
  {
   "cell_type": "code",
   "execution_count": 1,
   "metadata": {},
   "outputs": [
    {
     "name": "stderr",
     "output_type": "stream",
     "text": [
      "2023-03-07 12:01:57.591612: I tensorflow/core/platform/cpu_feature_guard.cc:193] This TensorFlow binary is optimized with oneAPI Deep Neural Network Library (oneDNN) to use the following CPU instructions in performance-critical operations:  AVX2 FMA\n",
      "To enable them in other operations, rebuild TensorFlow with the appropriate compiler flags.\n",
      "2023-03-07 12:01:58.332850: W tensorflow/compiler/xla/stream_executor/platform/default/dso_loader.cc:64] Could not load dynamic library 'libcudart.so.11.0'; dlerror: libcudart.so.11.0: cannot open shared object file: No such file or directory\n",
      "2023-03-07 12:01:58.332892: I tensorflow/compiler/xla/stream_executor/cuda/cudart_stub.cc:29] Ignore above cudart dlerror if you do not have a GPU set up on your machine.\n",
      "2023-03-07 12:01:59.671686: W tensorflow/compiler/xla/stream_executor/platform/default/dso_loader.cc:64] Could not load dynamic library 'libnvinfer.so.7'; dlerror: libnvinfer.so.7: cannot open shared object file: No such file or directory\n",
      "2023-03-07 12:01:59.671812: W tensorflow/compiler/xla/stream_executor/platform/default/dso_loader.cc:64] Could not load dynamic library 'libnvinfer_plugin.so.7'; dlerror: libnvinfer_plugin.so.7: cannot open shared object file: No such file or directory\n",
      "2023-03-07 12:01:59.671821: W tensorflow/compiler/tf2tensorrt/utils/py_utils.cc:38] TF-TRT Warning: Cannot dlopen some TensorRT libraries. If you would like to use Nvidia GPU with TensorRT, please make sure the missing libraries mentioned above are installed properly.\n"
     ]
    }
   ],
   "source": [
    "import tensorflow as tf\n",
    "\n",
    "from tensorflow import keras\n",
    "from tensorflow.keras import layers\n",
    "from tensorflow.keras import losses\n",
    "import matplotlib.pyplot as plt\n",
    "\n",
    "import os\n",
    "import re\n",
    "import string"
   ]
  },
  {
   "cell_type": "code",
   "execution_count": 2,
   "metadata": {},
   "outputs": [],
   "source": [
    "dataset_dir = '../aclImdb'"
   ]
  },
  {
   "cell_type": "code",
   "execution_count": 3,
   "metadata": {},
   "outputs": [
    {
     "data": {
      "text/plain": [
       "['README', '.DS_Store', 'test', 'train']"
      ]
     },
     "execution_count": 3,
     "metadata": {},
     "output_type": "execute_result"
    }
   ],
   "source": [
    "os.listdir(dataset_dir)"
   ]
  },
  {
   "cell_type": "code",
   "execution_count": 4,
   "metadata": {},
   "outputs": [
    {
     "data": {
      "text/plain": [
       "['.DS_Store', 'pos', 'neg']"
      ]
     },
     "execution_count": 4,
     "metadata": {},
     "output_type": "execute_result"
    }
   ],
   "source": [
    "train_dir = os.path.join(dataset_dir, 'train')\n",
    "os.listdir(train_dir)"
   ]
  },
  {
   "cell_type": "code",
   "execution_count": 5,
   "metadata": {},
   "outputs": [
    {
     "name": "stdout",
     "output_type": "stream",
     "text": [
      "Rachel Griffiths writes and directs this award winning short film. A heartwarming story about coping with grief and cherishing the memory of those we've loved and lost. Although, only 15 minutes long, Griffiths manages to capture so much emotion and truth onto film in the short space of time. Bud Tingwell gives a touching performance as Will, a widower struggling to cope with his wife's death. Will is confronted by the harsh reality of loneliness and helplessness as he proceeds to take care of Ruth's pet cow, Tulip. The film displays the grief and responsibility one feels for those they have loved and lost. Good cinematography, great direction, and superbly acted. It will bring tears to all those who have lost a loved one, and survived.\n"
     ]
    }
   ],
   "source": [
    "sample_file = os.path.join(train_dir, 'pos/1181_9.txt')\n",
    "with open(sample_file) as f:\n",
    "    print(f.read())"
   ]
  },
  {
   "cell_type": "code",
   "execution_count": 13,
   "metadata": {},
   "outputs": [
    {
     "name": "stdout",
     "output_type": "stream",
     "text": [
      "Found 25000 files belonging to 2 classes.\n",
      "Using 20000 files for training.\n"
     ]
    }
   ],
   "source": [
    "batch_size = 32\n",
    "seed = 42\n",
    "\n",
    "raw_train_ds = tf.keras.utils.text_dataset_from_directory(\n",
    "    '../aclImdb/train',\n",
    "    batch_size=batch_size,\n",
    "    validation_split=0.2,\n",
    "    subset='training',\n",
    "    seed=seed\n",
    ")"
   ]
  },
  {
   "cell_type": "code",
   "execution_count": 9,
   "metadata": {},
   "outputs": [
    {
     "name": "stdout",
     "output_type": "stream",
     "text": [
      "Review: b'\"Pandemonium\" is a horror movie spoof that comes off more stupid than funny. Believe me when I tell you, I love comedies. Especially comedy spoofs. \"Airplane\", \"The Naked Gun\" trilogy, \"Blazing Saddles\", \"High Anxiety\", and \"Spaceballs\" are some of my favorite comedies that spoof a particular genre. \"Pandemonium\" is not up there with those films. Most of the scenes in this movie had me sitting there in stunned silence because the movie wasn\\'t all that funny. There are a few laughs in the film, but when you watch a comedy, you expect to laugh a lot more than a few times and that\\'s all this film has going for it. Geez, \"Scream\" had more laughs than this film and that was more of a horror film. How bizarre is that?<br /><br />*1/2 (out of four)'\n",
      "Label 0\n",
      "Review: b\"David Mamet is a very interesting and a very un-equal director. His first movie 'House of Games' was the one I liked best, and it set a series of films with characters whose perspective of life changes as they get into complicated situations, and so does the perspective of the viewer.<br /><br />So is 'Homicide' which from the title tries to set the mind of the viewer to the usual crime drama. The principal characters are two cops, one Jewish and one Irish who deal with a racially charged area. The murder of an old Jewish shop owner who proves to be an ancient veteran of the Israeli Independence war triggers the Jewish identity in the mind and heart of the Jewish detective.<br /><br />This is were the flaws of the film are the more obvious. The process of awakening is theatrical and hard to believe, the group of Jewish militants is operatic, and the way the detective eventually walks to the final violent confrontation is pathetic. The end of the film itself is Mamet-like smart, but disappoints from a human emotional perspective.<br /><br />Joe Mantegna and William Macy give strong performances, but the flaws of the story are too evident to be easily compensated.\"\n",
      "Label 0\n",
      "Review: b'Great documentary about the lives of NY firefighters during the worst terrorist attack of all time.. That reason alone is why this should be a must see collectors item.. What shocked me was not only the attacks, but the\"High Fat Diet\" and physical appearance of some of these firefighters. I think a lot of Doctors would agree with me that,in the physical shape they were in, some of these firefighters would NOT of made it to the 79th floor carrying over 60 lbs of gear. Having said that i now have a greater respect for firefighters and i realize becoming a firefighter is a life altering job. The French have a history of making great documentary\\'s and that is what this is, a Great Documentary.....'\n",
      "Label 1\n"
     ]
    }
   ],
   "source": [
    "for text_batch, label_batch in raw_train_ds.take(1):\n",
    "    for i in range(0, 3):\n",
    "        print(\"Review:\", text_batch.numpy()[i])\n",
    "        print(\"Label\", label_batch.numpy()[i])"
   ]
  },
  {
   "cell_type": "code",
   "execution_count": 10,
   "metadata": {},
   "outputs": [
    {
     "name": "stdout",
     "output_type": "stream",
     "text": [
      "Label 0 is: neg\n",
      "Label 1 is: pos\n"
     ]
    }
   ],
   "source": [
    "print(\"Label 0 is:\", raw_train_ds.class_names[0])\n",
    "print(\"Label 1 is:\",raw_train_ds.class_names[1])"
   ]
  },
  {
   "cell_type": "code",
   "execution_count": 12,
   "metadata": {},
   "outputs": [
    {
     "name": "stdout",
     "output_type": "stream",
     "text": [
      "Found 25000 files belonging to 2 classes.\n",
      "Using 5000 files for validation.\n"
     ]
    }
   ],
   "source": [
    "raw_val_ds = tf.keras.utils.text_dataset_from_directory(\n",
    "    '../aclImdb/train',\n",
    "    batch_size=batch_size,\n",
    "    validation_split=0.2,\n",
    "    subset='validation',\n",
    "    seed=seed\n",
    ")"
   ]
  },
  {
   "cell_type": "code",
   "execution_count": 14,
   "metadata": {},
   "outputs": [
    {
     "name": "stdout",
     "output_type": "stream",
     "text": [
      "Found 25000 files belonging to 2 classes.\n"
     ]
    }
   ],
   "source": [
    "raw_test_ds = tf.keras.utils.text_dataset_from_directory(\n",
    "    '../aclImdb/train',\n",
    "    batch_size=batch_size)"
   ]
  },
  {
   "cell_type": "code",
   "execution_count": 15,
   "metadata": {},
   "outputs": [],
   "source": [
    " def costum_standardization(input_data):\n",
    "    lowercase = tf.strings.lower(input_data)\n",
    "    stripped_html = tf.strings.regex_replace(lowercase, '<br /', ' ')\n",
    "    return tf.strings.regex_replace(stripped_html, '[%s]' % re.escape(string.punctuation), '')"
   ]
  },
  {
   "cell_type": "code",
   "execution_count": 16,
   "metadata": {},
   "outputs": [],
   "source": [
    "max_features = 10000\n",
    "sequence_length = 250\n",
    "\n",
    "vectorize_layer = layers.TextVectorization(\n",
    "    standardize=costum_standardization,\n",
    "    max_tokens=max_features,\n",
    "    output_mode = 'int',\n",
    "    output_sequence_length = sequence_length\n",
    ")"
   ]
  },
  {
   "cell_type": "code",
   "execution_count": 17,
   "metadata": {},
   "outputs": [
    {
     "name": "stdout",
     "output_type": "stream",
     "text": [
      "WARNING:tensorflow:From /home/thomas/anaconda3/lib/python3.9/site-packages/tensorflow/python/autograph/pyct/static_analysis/liveness.py:83: Analyzer.lamba_check (from tensorflow.python.autograph.pyct.static_analysis.liveness) is deprecated and will be removed after 2023-09-23.\n",
      "Instructions for updating:\n",
      "Lambda fuctions will be no more assumed to be used in the statement where they are used, or at least in the same block. https://github.com/tensorflow/tensorflow/issues/56089\n"
     ]
    }
   ],
   "source": [
    "train_text = raw_train_ds.map(lambda x, y: x)\n",
    "vectorize_layer.adapt(train_text)"
   ]
  },
  {
   "cell_type": "code",
   "execution_count": 18,
   "metadata": {},
   "outputs": [],
   "source": [
    "def vectorize_text(text, label):\n",
    "    text = tf.expand_dims(text, -1)\n",
    "    return vectorize_layer(text), label"
   ]
  },
  {
   "cell_type": "code",
   "execution_count": 19,
   "metadata": {},
   "outputs": [
    {
     "name": "stdout",
     "output_type": "stream",
     "text": [
      "Review tf.Tensor(b'Silent Night, Deadly Night 5 is the very last of the series, and like part 4, it\\'s unrelated to the first three except by title and the fact that it\\'s a Christmas-themed horror flick.<br /><br />Except to the oblivious, there\\'s some obvious things going on here...Mickey Rooney plays a toymaker named Joe Petto and his creepy son\\'s name is Pino. Ring a bell, anyone? Now, a little boy named Derek heard a knock at the door one evening, and opened it to find a present on the doorstep for him. Even though it said \"don\\'t open till Christmas\", he begins to open it anyway but is stopped by his dad, who scolds him and sends him to bed, and opens the gift himself. Inside is a little red ball that sprouts Santa arms and a head, and proceeds to kill dad. Oops, maybe he should have left well-enough alone. Of course Derek is then traumatized by the incident since he watched it from the stairs, but he doesn\\'t grow up to be some killer Santa, he just stops talking.<br /><br />There\\'s a mysterious stranger lurking around, who seems very interested in the toys that Joe Petto makes. We even see him buying a bunch when Derek\\'s mom takes him to the store to find a gift for him to bring him out of his trauma. And what exactly is this guy doing? Well, we\\'re not sure but he does seem to be taking these toys apart to see what makes them tick. He does keep his landlord from evicting him by promising him to pay him in cash the next day and presents him with a \"Larry the Larvae\" toy for his kid, but of course \"Larry\" is not a good toy and gets out of the box in the car and of course, well, things aren\\'t pretty.<br /><br />Anyway, eventually what\\'s going on with Joe Petto and Pino is of course revealed, and as with the old story, Pino is not a \"real boy\". Pino is probably even more agitated and naughty because he suffers from \"Kenitalia\" (a smooth plastic crotch) so that could account for his evil ways. And the identity of the lurking stranger is revealed too, and there\\'s even kind of a happy ending of sorts. Whee.<br /><br />A step up from part 4, but not much of one. Again, Brian Yuzna is involved, and Screaming Mad George, so some decent special effects, but not enough to make this great. A few leftovers from part 4 are hanging around too, like Clint Howard and Neith Hunter, but that doesn\\'t really make any difference. Anyway, I now have seeing the whole series out of my system. Now if I could get some of it out of my brain. 4 out of 5.', shape=(), dtype=string)\n",
      "Label neg\n",
      "Vectorized review (<tf.Tensor: shape=(1, 250), dtype=int64, numpy=\n",
      "array([[1287,  313, 2380,  313,  661,    7,    2,   52,  229,    5,    2,\n",
      "         200,    3,   38,  170,  669,   29, 5492,    6,    2,   83,  297,\n",
      "         549,   32,  410,    3,    2,  186,   12,   29,    4,    1,  191,\n",
      "         510,  549,    6,    2, 8229,  212,   46,  576,  175,  168,   20,\n",
      "           1, 5361,  290,    4,    1,  761,  969,    1,    3,   24,  935,\n",
      "        2271,  393,    7,    1, 1675,    4, 3747,  250,  148,    4,  112,\n",
      "         436,  761, 3529,  548,    4, 3633,   31,    2, 1331,   28, 2096,\n",
      "           3, 2912,    9,    6,  163,    4, 1006,   20,    2,    1,   15,\n",
      "          85,   53,  147,    9,  292,   89,  959, 2314,  984,   27,  762,\n",
      "           6,  959,    9,  564,   18,    7, 2140,   32,   24, 1254,   36,\n",
      "           1,   85,    3, 3298,   85,    6, 1410,    3, 1936,    2, 3408,\n",
      "         301,  965,    7,    4,  112,  740, 1977,   12,    1, 2014, 2772,\n",
      "           3,    4,  428,    3, 5177,    6,  512, 1254,    1,  278,   27,\n",
      "         139,   25,  308,    1,  579,    5,  259, 3529,    7,   92, 8981,\n",
      "          32,    2, 3842,  230,   27,  289,    9,   35,    2, 5712,   18,\n",
      "          27,  144, 2166,   56,    6,   26,   46,  466, 2014,   27,   40,\n",
      "        2745,  657,  212,    4, 1376, 3002, 7080,  183,   36,  180,   52,\n",
      "         920,    8,    2, 4028,   12,  969,    1,  158,   71,   53,   67,\n",
      "          85, 2754,    4,  734,   51,    1, 1611,  294,   85,    6,    2,\n",
      "        1164,    6,  163,    4, 3408,   15,   85,    6,  717,   85,   44,\n",
      "           5,   24, 7158,    3,   48,  604,    7,   11,  225,  384,   73,\n",
      "          65,   21,  242,   18,   27,  120,  295,    6,   26,  667,  129,\n",
      "        4028,  948,    6,   67,   48,  158,   93,    1]])>, <tf.Tensor: shape=(), dtype=int32, numpy=0>)\n"
     ]
    }
   ],
   "source": [
    "text_batch, label_batch = next(iter(raw_train_ds))\n",
    "first_review, first_label = text_batch[0], label_batch[0]\n",
    "print(\"Review\", first_review)\n",
    "print(\"Label\", raw_train_ds.class_names[first_label])\n",
    "print(\"Vectorized review\", vectorize_text(first_review, first_label))"
   ]
  },
  {
   "cell_type": "code",
   "execution_count": 20,
   "metadata": {},
   "outputs": [
    {
     "name": "stdout",
     "output_type": "stream",
     "text": [
      "0 :  \n",
      "1 :  [UNK]\n",
      "1287 :  silent\n",
      "9999 : rushes\n",
      "Vocabulary size:  10000\n"
     ]
    }
   ],
   "source": [
    " print(\"0 : \", vectorize_layer.get_vocabulary()[0])\n",
    "print(\"1 : \",vectorize_layer.get_vocabulary()[1])\n",
    "print(\"1287 : \", vectorize_layer.get_vocabulary()[1287])\n",
    "print(\"9999 :\",vectorize_layer.get_vocabulary()[9999])\n",
    "print(\"Vocabulary size: \", vectorize_layer.vocabulary_size())"
   ]
  },
  {
   "cell_type": "code",
   "execution_count": 21,
   "metadata": {},
   "outputs": [],
   "source": [
    "AUTOTUNE = tf.data.AUTOTUNE\n",
    "\n",
    "raw_train_ds = raw_train_ds.cache().prefetch(buffer_size=AUTOTUNE)\n",
    "raw_val_ds = raw_val_ds.cache().prefetch(buffer_size=AUTOTUNE)\n",
    "raw_test_ds = raw_test_ds.cache().prefetch(buffer_size=AUTOTUNE)"
   ]
  },
  {
   "cell_type": "markdown",
   "metadata": {},
   "source": []
  },
  {
   "cell_type": "code",
   "execution_count": 23,
   "metadata": {},
   "outputs": [],
   "source": [
    "model = tf.keras.Sequential()\n",
    "\n",
    "model.add(vectorize_layer)"
   ]
  },
  {
   "cell_type": "code",
   "execution_count": 24,
   "metadata": {},
   "outputs": [],
   "source": [
    "embedding_dim = 16\n",
    "model.add(layers.Embedding(max_features, embedding_dim))"
   ]
  },
  {
   "cell_type": "code",
   "execution_count": 25,
   "metadata": {},
   "outputs": [],
   "source": [
    "model.add(layers.Dropout(0.2))"
   ]
  },
  {
   "cell_type": "code",
   "execution_count": 26,
   "metadata": {},
   "outputs": [],
   "source": [
    "model.add(layers.GlobalAveragePooling1D())\n",
    "model.add(layers.Dropout(0.2))"
   ]
  },
  {
   "cell_type": "code",
   "execution_count": 27,
   "metadata": {},
   "outputs": [],
   "source": [
    "model.add(layers.Dense(1))"
   ]
  },
  {
   "cell_type": "code",
   "execution_count": 28,
   "metadata": {},
   "outputs": [
    {
     "name": "stdout",
     "output_type": "stream",
     "text": [
      "Model: \"sequential_1\"\n",
      "_________________________________________________________________\n",
      " Layer (type)                Output Shape              Param #   \n",
      "=================================================================\n",
      " text_vectorization (TextVec  (None, 250)              0         \n",
      " torization)                                                     \n",
      "                                                                 \n",
      " embedding (Embedding)       (None, 250, 16)           160000    \n",
      "                                                                 \n",
      " dropout (Dropout)           (None, 250, 16)           0         \n",
      "                                                                 \n",
      " global_average_pooling1d (G  (None, 16)               0         \n",
      " lobalAveragePooling1D)                                          \n",
      "                                                                 \n",
      " dropout_1 (Dropout)         (None, 16)                0         \n",
      "                                                                 \n",
      " dense (Dense)               (None, 1)                 17        \n",
      "                                                                 \n",
      "=================================================================\n",
      "Total params: 160,017\n",
      "Trainable params: 160,017\n",
      "Non-trainable params: 0\n",
      "_________________________________________________________________\n"
     ]
    }
   ],
   "source": [
    "model.summary()"
   ]
  },
  {
   "cell_type": "code",
   "execution_count": 29,
   "metadata": {},
   "outputs": [],
   "source": [
    "model.compile(loss=losses.BinaryCrossentropy(from_logits=True),\n",
    "              optimizer='adam',\n",
    "              metrics=tf.metrics.BinaryAccuracy(threshold=0.0))"
   ]
  },
  {
   "cell_type": "code",
   "execution_count": 30,
   "metadata": {},
   "outputs": [
    {
     "name": "stdout",
     "output_type": "stream",
     "text": [
      "Epoch 1/30\n",
      "625/625 [==============================] - 6s 9ms/step - loss: 0.6642 - binary_accuracy: 0.6903 - val_loss: 0.6147 - val_binary_accuracy: 0.7720\n",
      "Epoch 2/30\n",
      "625/625 [==============================] - 5s 9ms/step - loss: 0.5489 - binary_accuracy: 0.7980 - val_loss: 0.4985 - val_binary_accuracy: 0.8198\n",
      "Epoch 3/30\n",
      "625/625 [==============================] - 5s 8ms/step - loss: 0.4453 - binary_accuracy: 0.8439 - val_loss: 0.4203 - val_binary_accuracy: 0.8462\n",
      "Epoch 4/30\n",
      "625/625 [==============================] - 5s 9ms/step - loss: 0.3787 - binary_accuracy: 0.8653 - val_loss: 0.3740 - val_binary_accuracy: 0.8610\n",
      "Epoch 5/30\n",
      "625/625 [==============================] - 6s 9ms/step - loss: 0.3359 - binary_accuracy: 0.8779 - val_loss: 0.3452 - val_binary_accuracy: 0.8682\n",
      "Epoch 6/30\n",
      "625/625 [==============================] - 5s 8ms/step - loss: 0.3056 - binary_accuracy: 0.8885 - val_loss: 0.3261 - val_binary_accuracy: 0.8720\n",
      "Epoch 7/30\n",
      "625/625 [==============================] - 5s 9ms/step - loss: 0.2813 - binary_accuracy: 0.8968 - val_loss: 0.3129 - val_binary_accuracy: 0.8728\n",
      "Epoch 8/30\n",
      "625/625 [==============================] - 6s 9ms/step - loss: 0.2626 - binary_accuracy: 0.9048 - val_loss: 0.3032 - val_binary_accuracy: 0.8742\n",
      "Epoch 9/30\n",
      "625/625 [==============================] - 5s 8ms/step - loss: 0.2458 - binary_accuracy: 0.9118 - val_loss: 0.2966 - val_binary_accuracy: 0.8770\n",
      "Epoch 10/30\n",
      "625/625 [==============================] - 6s 9ms/step - loss: 0.2327 - binary_accuracy: 0.9162 - val_loss: 0.2918 - val_binary_accuracy: 0.8784\n",
      "Epoch 11/30\n",
      "625/625 [==============================] - 6s 9ms/step - loss: 0.2189 - binary_accuracy: 0.9204 - val_loss: 0.2886 - val_binary_accuracy: 0.8802\n",
      "Epoch 12/30\n",
      "625/625 [==============================] - 5s 8ms/step - loss: 0.2074 - binary_accuracy: 0.9254 - val_loss: 0.2870 - val_binary_accuracy: 0.8816\n",
      "Epoch 13/30\n",
      "625/625 [==============================] - 6s 9ms/step - loss: 0.1979 - binary_accuracy: 0.9301 - val_loss: 0.2860 - val_binary_accuracy: 0.8814\n",
      "Epoch 14/30\n",
      "625/625 [==============================] - 5s 9ms/step - loss: 0.1876 - binary_accuracy: 0.9338 - val_loss: 0.2861 - val_binary_accuracy: 0.8822\n",
      "Epoch 15/30\n",
      "625/625 [==============================] - 5s 9ms/step - loss: 0.1797 - binary_accuracy: 0.9377 - val_loss: 0.2871 - val_binary_accuracy: 0.8832\n",
      "Epoch 16/30\n",
      "625/625 [==============================] - 6s 9ms/step - loss: 0.1714 - binary_accuracy: 0.9409 - val_loss: 0.2883 - val_binary_accuracy: 0.8840\n",
      "Epoch 17/30\n",
      "625/625 [==============================] - 5s 8ms/step - loss: 0.1630 - binary_accuracy: 0.9435 - val_loss: 0.2905 - val_binary_accuracy: 0.8836\n",
      "Epoch 18/30\n",
      "625/625 [==============================] - 5s 8ms/step - loss: 0.1558 - binary_accuracy: 0.9467 - val_loss: 0.2929 - val_binary_accuracy: 0.8832\n",
      "Epoch 19/30\n",
      "625/625 [==============================] - 5s 8ms/step - loss: 0.1486 - binary_accuracy: 0.9499 - val_loss: 0.2958 - val_binary_accuracy: 0.8832\n",
      "Epoch 20/30\n",
      "625/625 [==============================] - 5s 8ms/step - loss: 0.1432 - binary_accuracy: 0.9530 - val_loss: 0.2997 - val_binary_accuracy: 0.8822\n",
      "Epoch 21/30\n",
      "625/625 [==============================] - 5s 8ms/step - loss: 0.1362 - binary_accuracy: 0.9553 - val_loss: 0.3033 - val_binary_accuracy: 0.8812\n",
      "Epoch 22/30\n",
      "625/625 [==============================] - 5s 8ms/step - loss: 0.1306 - binary_accuracy: 0.9575 - val_loss: 0.3080 - val_binary_accuracy: 0.8810\n",
      "Epoch 23/30\n",
      "625/625 [==============================] - 5s 8ms/step - loss: 0.1242 - binary_accuracy: 0.9607 - val_loss: 0.3129 - val_binary_accuracy: 0.8798\n",
      "Epoch 24/30\n",
      "625/625 [==============================] - 5s 8ms/step - loss: 0.1192 - binary_accuracy: 0.9635 - val_loss: 0.3174 - val_binary_accuracy: 0.8800\n",
      "Epoch 25/30\n",
      "625/625 [==============================] - 5s 8ms/step - loss: 0.1130 - binary_accuracy: 0.9656 - val_loss: 0.3230 - val_binary_accuracy: 0.8798\n",
      "Epoch 26/30\n",
      "625/625 [==============================] - 5s 9ms/step - loss: 0.1087 - binary_accuracy: 0.9660 - val_loss: 0.3288 - val_binary_accuracy: 0.8794\n",
      "Epoch 27/30\n",
      "625/625 [==============================] - 6s 9ms/step - loss: 0.1045 - binary_accuracy: 0.9672 - val_loss: 0.3348 - val_binary_accuracy: 0.8788\n",
      "Epoch 28/30\n",
      "625/625 [==============================] - 5s 8ms/step - loss: 0.1005 - binary_accuracy: 0.9700 - val_loss: 0.3410 - val_binary_accuracy: 0.8786\n",
      "Epoch 29/30\n",
      "625/625 [==============================] - 5s 8ms/step - loss: 0.0953 - binary_accuracy: 0.9719 - val_loss: 0.3472 - val_binary_accuracy: 0.8780\n",
      "Epoch 30/30\n",
      "625/625 [==============================] - 5s 8ms/step - loss: 0.0915 - binary_accuracy: 0.9740 - val_loss: 0.3545 - val_binary_accuracy: 0.8780\n"
     ]
    }
   ],
   "source": [
    "epochs = 30\n",
    "history = model.fit(\n",
    "    raw_train_ds,\n",
    "    validation_data=raw_val_ds,\n",
    "    epochs=epochs\n",
    ")"
   ]
  },
  {
   "cell_type": "code",
   "execution_count": 31,
   "metadata": {},
   "outputs": [
    {
     "name": "stdout",
     "output_type": "stream",
     "text": [
      "782/782 [==============================] - 3s 3ms/step - loss: 0.1354 - accuracy: 0.9578\n",
      "Loss:  0.13536489009857178\n",
      "Accuracy:  0.9577599763870239\n"
     ]
    }
   ],
   "source": [
    "sigmoid_model = tf.keras.Sequential([\n",
    "  model,\n",
    "  layers.Activation('sigmoid')\n",
    "])\n",
    "sigmoid_model.compile(\n",
    "    loss=losses.BinaryCrossentropy(from_logits=False), optimizer=\"adam\", metrics=['accuracy']\n",
    ")\n",
    "loss, accuracy = sigmoid_model.evaluate(raw_test_ds)\n",
    "print(\"Loss: \", loss)\n",
    "print(\"Accuracy: \", accuracy)"
   ]
  },
  {
   "cell_type": "code",
   "execution_count": 32,
   "metadata": {},
   "outputs": [
    {
     "data": {
      "text/plain": [
       "(10000, 16)"
      ]
     },
     "execution_count": 32,
     "metadata": {},
     "output_type": "execute_result"
    }
   ],
   "source": [
    "embedding = model.layers[1]\n",
    "weights = embedding.get_weights()[0]\n",
    "weights.shape"
   ]
  },
  {
   "cell_type": "code",
   "execution_count": 33,
   "metadata": {},
   "outputs": [
    {
     "name": "stdout",
     "output_type": "stream",
     "text": [
      " 0 [-0.00694872  0.00631856  0.01552328  0.00076955 -0.00339619 -0.01088094\n",
      " -0.00061166  0.01759863  0.00997171 -0.00379504  0.00102451  0.0070615\n",
      "  0.00984393 -0.01194889  0.00740726 -0.01027613]\n",
      "[UNK] 1 [-0.00455805 -0.01291107 -0.02800214  0.00874307  0.02449548 -0.02032594\n",
      " -0.04284899 -0.03391042 -0.0214021   0.04699619 -0.0119977   0.02989809\n",
      " -0.03736031  0.09237641  0.02336987  0.02910754]\n",
      "the 2 [-0.01038803 -0.04590869  0.04719175 -0.02759123 -0.07728349  0.05016558\n",
      "  0.02538362  0.06055773  0.01499293 -0.03806549 -0.02790038 -0.02381574\n",
      " -0.00021068 -0.08888663 -0.06525107 -0.04222541]\n",
      "and 3 [-0.14823869 -0.0736931   0.17861453 -0.10051362 -0.08554973  0.02675249\n",
      "  0.15956998  0.10135044  0.01691444 -0.16740258 -0.13944541 -0.10909092\n",
      "  0.1009723  -0.09003435 -0.06624553 -0.04914097]\n",
      "a 4 [ 0.00737174  0.02574769  0.03178833 -0.01837716 -0.01365241 -0.04430918\n",
      "  0.05467889  0.02064748  0.0401809   0.02962432 -0.07409504 -0.05994225\n",
      "  0.03032604 -0.0822848  -0.04607478 -0.02184193]\n",
      "of 5 [ 0.09521704  0.11624383 -0.11185949  0.08224794  0.11148411 -0.09892157\n",
      " -0.07727931 -0.05698872 -0.08518945  0.0100771   0.15604542  0.00103313\n",
      " -0.07952727  0.08340538  0.06773686  0.02661763]\n"
     ]
    }
   ],
   "source": [
    "for num in range(0, 5+1):\n",
    "    word = vectorize_layer.get_vocabulary()[num]\n",
    "    vec = weights[num]\n",
    "    print(word, num, vec)"
   ]
  },
  {
   "cell_type": "code",
   "execution_count": null,
   "metadata": {},
   "outputs": [],
   "source": []
  }
 ],
 "metadata": {
  "kernelspec": {
   "display_name": "base",
   "language": "python",
   "name": "python3"
  },
  "language_info": {
   "codemirror_mode": {
    "name": "ipython",
    "version": 3
   },
   "file_extension": ".py",
   "mimetype": "text/x-python",
   "name": "python",
   "nbconvert_exporter": "python",
   "pygments_lexer": "ipython3",
   "version": "3.9.13"
  },
  "orig_nbformat": 4,
  "vscode": {
   "interpreter": {
    "hash": "d2af68a4b51633f13995ebfae92a57b161ed6e58c9d8595f65fa30edeb049295"
   }
  }
 },
 "nbformat": 4,
 "nbformat_minor": 2
}
