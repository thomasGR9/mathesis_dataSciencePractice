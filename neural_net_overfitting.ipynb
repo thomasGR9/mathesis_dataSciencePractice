{
 "cells": [
  {
   "cell_type": "code",
   "execution_count": 3,
   "metadata": {},
   "outputs": [
    {
     "name": "stderr",
     "output_type": "stream",
     "text": [
      "2023-03-05 19:09:40.981652: I tensorflow/core/platform/cpu_feature_guard.cc:193] This TensorFlow binary is optimized with oneAPI Deep Neural Network Library (oneDNN) to use the following CPU instructions in performance-critical operations:  AVX2 FMA\n",
      "To enable them in other operations, rebuild TensorFlow with the appropriate compiler flags.\n",
      "2023-03-05 19:09:41.443679: W tensorflow/compiler/xla/stream_executor/platform/default/dso_loader.cc:64] Could not load dynamic library 'libcudart.so.11.0'; dlerror: libcudart.so.11.0: cannot open shared object file: No such file or directory\n",
      "2023-03-05 19:09:41.443713: I tensorflow/compiler/xla/stream_executor/cuda/cudart_stub.cc:29] Ignore above cudart dlerror if you do not have a GPU set up on your machine.\n",
      "2023-03-05 19:09:42.327050: W tensorflow/compiler/xla/stream_executor/platform/default/dso_loader.cc:64] Could not load dynamic library 'libnvinfer.so.7'; dlerror: libnvinfer.so.7: cannot open shared object file: No such file or directory\n",
      "2023-03-05 19:09:42.327176: W tensorflow/compiler/xla/stream_executor/platform/default/dso_loader.cc:64] Could not load dynamic library 'libnvinfer_plugin.so.7'; dlerror: libnvinfer_plugin.so.7: cannot open shared object file: No such file or directory\n",
      "2023-03-05 19:09:42.327185: W tensorflow/compiler/tf2tensorrt/utils/py_utils.cc:38] TF-TRT Warning: Cannot dlopen some TensorRT libraries. If you would like to use Nvidia GPU with TensorRT, please make sure the missing libraries mentioned above are installed properly.\n"
     ]
    }
   ],
   "source": [
    "import matplotlib.pyplot as plt\n",
    "\n",
    "import tensorflow as tf\n",
    "from tensorflow import keras\n",
    "from tensorflow.keras import layers\n",
    "\n",
    "from sklearn.datasets import fetch_california_housing\n",
    "from sklearn.model_selection import train_test_split\n",
    "\n",
    "import pandas as pd\n",
    "import numpy as np\n",
    "\n",
    "tf.random.set_seed(0)"
   ]
  },
  {
   "cell_type": "code",
   "execution_count": 4,
   "metadata": {},
   "outputs": [
    {
     "data": {
      "text/html": [
       "<div>\n",
       "<style scoped>\n",
       "    .dataframe tbody tr th:only-of-type {\n",
       "        vertical-align: middle;\n",
       "    }\n",
       "\n",
       "    .dataframe tbody tr th {\n",
       "        vertical-align: top;\n",
       "    }\n",
       "\n",
       "    .dataframe thead th {\n",
       "        text-align: right;\n",
       "    }\n",
       "</style>\n",
       "<table border=\"1\" class=\"dataframe\">\n",
       "  <thead>\n",
       "    <tr style=\"text-align: right;\">\n",
       "      <th></th>\n",
       "      <th>MedInc</th>\n",
       "      <th>HouseAge</th>\n",
       "      <th>AveRooms</th>\n",
       "      <th>AveBedrms</th>\n",
       "      <th>Population</th>\n",
       "      <th>AveOccup</th>\n",
       "      <th>Latitude</th>\n",
       "      <th>Longitude</th>\n",
       "    </tr>\n",
       "  </thead>\n",
       "  <tbody>\n",
       "    <tr>\n",
       "      <th>0</th>\n",
       "      <td>8.3252</td>\n",
       "      <td>41.0</td>\n",
       "      <td>6.984127</td>\n",
       "      <td>1.023810</td>\n",
       "      <td>322.0</td>\n",
       "      <td>2.555556</td>\n",
       "      <td>37.88</td>\n",
       "      <td>-122.23</td>\n",
       "    </tr>\n",
       "    <tr>\n",
       "      <th>1</th>\n",
       "      <td>8.3014</td>\n",
       "      <td>21.0</td>\n",
       "      <td>6.238137</td>\n",
       "      <td>0.971880</td>\n",
       "      <td>2401.0</td>\n",
       "      <td>2.109842</td>\n",
       "      <td>37.86</td>\n",
       "      <td>-122.22</td>\n",
       "    </tr>\n",
       "    <tr>\n",
       "      <th>2</th>\n",
       "      <td>7.2574</td>\n",
       "      <td>52.0</td>\n",
       "      <td>8.288136</td>\n",
       "      <td>1.073446</td>\n",
       "      <td>496.0</td>\n",
       "      <td>2.802260</td>\n",
       "      <td>37.85</td>\n",
       "      <td>-122.24</td>\n",
       "    </tr>\n",
       "    <tr>\n",
       "      <th>3</th>\n",
       "      <td>5.6431</td>\n",
       "      <td>52.0</td>\n",
       "      <td>5.817352</td>\n",
       "      <td>1.073059</td>\n",
       "      <td>558.0</td>\n",
       "      <td>2.547945</td>\n",
       "      <td>37.85</td>\n",
       "      <td>-122.25</td>\n",
       "    </tr>\n",
       "    <tr>\n",
       "      <th>4</th>\n",
       "      <td>3.8462</td>\n",
       "      <td>52.0</td>\n",
       "      <td>6.281853</td>\n",
       "      <td>1.081081</td>\n",
       "      <td>565.0</td>\n",
       "      <td>2.181467</td>\n",
       "      <td>37.85</td>\n",
       "      <td>-122.25</td>\n",
       "    </tr>\n",
       "    <tr>\n",
       "      <th>...</th>\n",
       "      <td>...</td>\n",
       "      <td>...</td>\n",
       "      <td>...</td>\n",
       "      <td>...</td>\n",
       "      <td>...</td>\n",
       "      <td>...</td>\n",
       "      <td>...</td>\n",
       "      <td>...</td>\n",
       "    </tr>\n",
       "    <tr>\n",
       "      <th>20635</th>\n",
       "      <td>1.5603</td>\n",
       "      <td>25.0</td>\n",
       "      <td>5.045455</td>\n",
       "      <td>1.133333</td>\n",
       "      <td>845.0</td>\n",
       "      <td>2.560606</td>\n",
       "      <td>39.48</td>\n",
       "      <td>-121.09</td>\n",
       "    </tr>\n",
       "    <tr>\n",
       "      <th>20636</th>\n",
       "      <td>2.5568</td>\n",
       "      <td>18.0</td>\n",
       "      <td>6.114035</td>\n",
       "      <td>1.315789</td>\n",
       "      <td>356.0</td>\n",
       "      <td>3.122807</td>\n",
       "      <td>39.49</td>\n",
       "      <td>-121.21</td>\n",
       "    </tr>\n",
       "    <tr>\n",
       "      <th>20637</th>\n",
       "      <td>1.7000</td>\n",
       "      <td>17.0</td>\n",
       "      <td>5.205543</td>\n",
       "      <td>1.120092</td>\n",
       "      <td>1007.0</td>\n",
       "      <td>2.325635</td>\n",
       "      <td>39.43</td>\n",
       "      <td>-121.22</td>\n",
       "    </tr>\n",
       "    <tr>\n",
       "      <th>20638</th>\n",
       "      <td>1.8672</td>\n",
       "      <td>18.0</td>\n",
       "      <td>5.329513</td>\n",
       "      <td>1.171920</td>\n",
       "      <td>741.0</td>\n",
       "      <td>2.123209</td>\n",
       "      <td>39.43</td>\n",
       "      <td>-121.32</td>\n",
       "    </tr>\n",
       "    <tr>\n",
       "      <th>20639</th>\n",
       "      <td>2.3886</td>\n",
       "      <td>16.0</td>\n",
       "      <td>5.254717</td>\n",
       "      <td>1.162264</td>\n",
       "      <td>1387.0</td>\n",
       "      <td>2.616981</td>\n",
       "      <td>39.37</td>\n",
       "      <td>-121.24</td>\n",
       "    </tr>\n",
       "  </tbody>\n",
       "</table>\n",
       "<p>20640 rows × 8 columns</p>\n",
       "</div>"
      ],
      "text/plain": [
       "       MedInc  HouseAge  AveRooms  AveBedrms  Population  AveOccup  Latitude  \\\n",
       "0      8.3252      41.0  6.984127   1.023810       322.0  2.555556     37.88   \n",
       "1      8.3014      21.0  6.238137   0.971880      2401.0  2.109842     37.86   \n",
       "2      7.2574      52.0  8.288136   1.073446       496.0  2.802260     37.85   \n",
       "3      5.6431      52.0  5.817352   1.073059       558.0  2.547945     37.85   \n",
       "4      3.8462      52.0  6.281853   1.081081       565.0  2.181467     37.85   \n",
       "...       ...       ...       ...        ...         ...       ...       ...   \n",
       "20635  1.5603      25.0  5.045455   1.133333       845.0  2.560606     39.48   \n",
       "20636  2.5568      18.0  6.114035   1.315789       356.0  3.122807     39.49   \n",
       "20637  1.7000      17.0  5.205543   1.120092      1007.0  2.325635     39.43   \n",
       "20638  1.8672      18.0  5.329513   1.171920       741.0  2.123209     39.43   \n",
       "20639  2.3886      16.0  5.254717   1.162264      1387.0  2.616981     39.37   \n",
       "\n",
       "       Longitude  \n",
       "0        -122.23  \n",
       "1        -122.22  \n",
       "2        -122.24  \n",
       "3        -122.25  \n",
       "4        -122.25  \n",
       "...          ...  \n",
       "20635    -121.09  \n",
       "20636    -121.21  \n",
       "20637    -121.22  \n",
       "20638    -121.32  \n",
       "20639    -121.24  \n",
       "\n",
       "[20640 rows x 8 columns]"
      ]
     },
     "execution_count": 4,
     "metadata": {},
     "output_type": "execute_result"
    }
   ],
   "source": [
    "california = fetch_california_housing(as_frame=True)\n",
    "california.data"
   ]
  },
  {
   "cell_type": "code",
   "execution_count": 5,
   "metadata": {},
   "outputs": [],
   "source": [
    "from sklearn.model_selection import train_test_split\n",
    "\n",
    "X_train, X_test, y_train, y_test = train_test_split(california.data, california.target, test_size=0.2, random_state=13)"
   ]
  },
  {
   "cell_type": "code",
   "execution_count": 6,
   "metadata": {},
   "outputs": [
    {
     "name": "stderr",
     "output_type": "stream",
     "text": [
      "2023-03-05 19:09:43.948540: W tensorflow/compiler/xla/stream_executor/platform/default/dso_loader.cc:64] Could not load dynamic library 'libcuda.so.1'; dlerror: libcuda.so.1: cannot open shared object file: No such file or directory\n",
      "2023-03-05 19:09:43.948567: W tensorflow/compiler/xla/stream_executor/cuda/cuda_driver.cc:265] failed call to cuInit: UNKNOWN ERROR (303)\n",
      "2023-03-05 19:09:43.948585: I tensorflow/compiler/xla/stream_executor/cuda/cuda_diagnostics.cc:156] kernel driver does not appear to be running on this host (thomas-Lenovo-V15-G2-ALC): /proc/driver/nvidia/version does not exist\n",
      "2023-03-05 19:09:43.948803: I tensorflow/core/platform/cpu_feature_guard.cc:193] This TensorFlow binary is optimized with oneAPI Deep Neural Network Library (oneDNN) to use the following CPU instructions in performance-critical operations:  AVX2 FMA\n",
      "To enable them in other operations, rebuild TensorFlow with the appropriate compiler flags.\n"
     ]
    },
    {
     "name": "stdout",
     "output_type": "stream",
     "text": [
      "[[ 3.86e+00  2.87e+01  5.43e+00  1.10e+00  1.43e+03  3.10e+00  3.57e+01\n",
      "  -1.20e+02]]\n",
      "[[3.58e+00 1.58e+02 6.53e+00 2.43e-01 1.33e+06 1.34e+02 4.60e+00 4.04e+00]]\n",
      "16512\n"
     ]
    }
   ],
   "source": [
    "normalizer = layers.Normalization()\n",
    "normalizer.adapt(np.array(X_train))\n",
    "with np.printoptions(precision=2):\n",
    "    print(normalizer.mean.numpy())\n",
    "    print(normalizer.variance.numpy())\n",
    "    print(normalizer.count.numpy())"
   ]
  },
  {
   "cell_type": "code",
   "execution_count": 7,
   "metadata": {},
   "outputs": [],
   "source": [
    "model = keras.Sequential([normalizer, layers.Dense(32, activation='relu'), layers.Dense(1)])\n",
    "\n",
    "model.compile(loss='mean_absolute_error', optimizer=tf.keras.optimizers.Adam(0.001))"
   ]
  },
  {
   "cell_type": "code",
   "execution_count": 8,
   "metadata": {},
   "outputs": [
    {
     "name": "stdout",
     "output_type": "stream",
     "text": [
      "Model: \"sequential\"\n",
      "_________________________________________________________________\n",
      " Layer (type)                Output Shape              Param #   \n",
      "=================================================================\n",
      " normalization (Normalizatio  (None, 8)                17        \n",
      " n)                                                              \n",
      "                                                                 \n",
      " dense (Dense)               (None, 32)                288       \n",
      "                                                                 \n",
      " dense_1 (Dense)             (None, 1)                 33        \n",
      "                                                                 \n",
      "=================================================================\n",
      "Total params: 338\n",
      "Trainable params: 321\n",
      "Non-trainable params: 17\n",
      "_________________________________________________________________\n"
     ]
    }
   ],
   "source": [
    "model.summary()"
   ]
  },
  {
   "cell_type": "code",
   "execution_count": 9,
   "metadata": {},
   "outputs": [
    {
     "name": "stdout",
     "output_type": "stream",
     "text": [
      "Epoch 1/100\n",
      "413/413 [==============================] - 1s 2ms/step - loss: 0.8732 - val_loss: 0.6041\n",
      "Epoch 2/100\n",
      "413/413 [==============================] - 1s 2ms/step - loss: 0.5267 - val_loss: 0.5108\n",
      "Epoch 3/100\n",
      "413/413 [==============================] - 1s 2ms/step - loss: 0.4761 - val_loss: 0.4779\n",
      "Epoch 4/100\n",
      "413/413 [==============================] - 1s 2ms/step - loss: 0.4562 - val_loss: 0.4689\n",
      "Epoch 5/100\n",
      "413/413 [==============================] - 1s 1ms/step - loss: 0.4434 - val_loss: 0.4595\n",
      "Epoch 6/100\n",
      "413/413 [==============================] - 1s 2ms/step - loss: 0.4365 - val_loss: 0.4458\n",
      "Epoch 7/100\n",
      "413/413 [==============================] - 1s 1ms/step - loss: 0.4294 - val_loss: 0.4424\n",
      "Epoch 8/100\n",
      "413/413 [==============================] - 1s 1ms/step - loss: 0.4245 - val_loss: 0.4386\n",
      "Epoch 9/100\n",
      "413/413 [==============================] - 1s 1ms/step - loss: 0.4192 - val_loss: 0.4356\n",
      "Epoch 10/100\n",
      "413/413 [==============================] - 1s 1ms/step - loss: 0.4150 - val_loss: 0.4320\n",
      "Epoch 11/100\n",
      "413/413 [==============================] - 1s 1ms/step - loss: 0.4118 - val_loss: 0.4306\n",
      "Epoch 12/100\n",
      "413/413 [==============================] - 1s 1ms/step - loss: 0.4082 - val_loss: 0.4249\n",
      "Epoch 13/100\n",
      "413/413 [==============================] - 1s 2ms/step - loss: 0.4054 - val_loss: 0.4257\n",
      "Epoch 14/100\n",
      "413/413 [==============================] - 1s 2ms/step - loss: 0.4028 - val_loss: 0.4294\n",
      "Epoch 15/100\n",
      "413/413 [==============================] - 1s 2ms/step - loss: 0.4000 - val_loss: 0.4240\n",
      "Epoch 16/100\n",
      "413/413 [==============================] - 1s 2ms/step - loss: 0.3974 - val_loss: 0.4154\n",
      "Epoch 17/100\n",
      "413/413 [==============================] - 1s 1ms/step - loss: 0.3955 - val_loss: 0.4138\n",
      "Epoch 18/100\n",
      "413/413 [==============================] - 1s 1ms/step - loss: 0.3939 - val_loss: 0.4142\n",
      "Epoch 19/100\n",
      "413/413 [==============================] - 1s 1ms/step - loss: 0.3933 - val_loss: 0.4185\n",
      "Epoch 20/100\n",
      "413/413 [==============================] - 1s 1ms/step - loss: 0.3907 - val_loss: 0.4138\n",
      "Epoch 21/100\n",
      "413/413 [==============================] - 1s 1ms/step - loss: 0.3890 - val_loss: 0.4122\n",
      "Epoch 22/100\n",
      "413/413 [==============================] - 1s 1ms/step - loss: 0.3888 - val_loss: 0.4125\n",
      "Epoch 23/100\n",
      "413/413 [==============================] - 1s 1ms/step - loss: 0.3872 - val_loss: 0.4096\n",
      "Epoch 24/100\n",
      "413/413 [==============================] - 1s 1ms/step - loss: 0.3865 - val_loss: 0.4058\n",
      "Epoch 25/100\n",
      "413/413 [==============================] - 1s 1ms/step - loss: 0.3864 - val_loss: 0.4084\n",
      "Epoch 26/100\n",
      "413/413 [==============================] - 1s 1ms/step - loss: 0.3849 - val_loss: 0.4088\n",
      "Epoch 27/100\n",
      "413/413 [==============================] - 1s 1ms/step - loss: 0.3848 - val_loss: 0.4047\n",
      "Epoch 28/100\n",
      "413/413 [==============================] - 1s 1ms/step - loss: 0.3837 - val_loss: 0.4070\n",
      "Epoch 29/100\n",
      "413/413 [==============================] - 1s 1ms/step - loss: 0.3826 - val_loss: 0.4103\n",
      "Epoch 30/100\n",
      "413/413 [==============================] - 1s 1ms/step - loss: 0.3815 - val_loss: 0.4058\n",
      "Epoch 31/100\n",
      "413/413 [==============================] - 1s 1ms/step - loss: 0.3816 - val_loss: 0.4042\n",
      "Epoch 32/100\n",
      "413/413 [==============================] - 1s 1ms/step - loss: 0.3808 - val_loss: 0.4042\n",
      "Epoch 33/100\n",
      "413/413 [==============================] - 1s 1ms/step - loss: 0.3807 - val_loss: 0.4017\n",
      "Epoch 34/100\n",
      "413/413 [==============================] - 1s 1ms/step - loss: 0.3802 - val_loss: 0.4023\n",
      "Epoch 35/100\n",
      "413/413 [==============================] - 1s 1ms/step - loss: 0.3800 - val_loss: 0.4019\n",
      "Epoch 36/100\n",
      "413/413 [==============================] - 1s 2ms/step - loss: 0.3783 - val_loss: 0.4056\n",
      "Epoch 37/100\n",
      "413/413 [==============================] - 1s 1ms/step - loss: 0.3783 - val_loss: 0.4027\n",
      "Epoch 38/100\n",
      "413/413 [==============================] - 1s 1ms/step - loss: 0.3777 - val_loss: 0.4025\n",
      "Epoch 39/100\n",
      "413/413 [==============================] - 1s 2ms/step - loss: 0.3774 - val_loss: 0.3980\n",
      "Epoch 40/100\n",
      "413/413 [==============================] - 1s 2ms/step - loss: 0.3767 - val_loss: 0.3980\n",
      "Epoch 41/100\n",
      "413/413 [==============================] - 1s 1ms/step - loss: 0.3770 - val_loss: 0.4029\n",
      "Epoch 42/100\n",
      "413/413 [==============================] - 1s 2ms/step - loss: 0.3762 - val_loss: 0.3990\n",
      "Epoch 43/100\n",
      "413/413 [==============================] - 1s 2ms/step - loss: 0.3755 - val_loss: 0.3967\n",
      "Epoch 44/100\n",
      "413/413 [==============================] - 1s 2ms/step - loss: 0.3755 - val_loss: 0.3967\n",
      "Epoch 45/100\n",
      "413/413 [==============================] - 1s 2ms/step - loss: 0.3752 - val_loss: 0.3979\n",
      "Epoch 46/100\n",
      "413/413 [==============================] - 1s 1ms/step - loss: 0.3739 - val_loss: 0.3964\n",
      "Epoch 47/100\n",
      "413/413 [==============================] - 1s 2ms/step - loss: 0.3737 - val_loss: 0.3951\n",
      "Epoch 48/100\n",
      "413/413 [==============================] - 1s 1ms/step - loss: 0.3731 - val_loss: 0.3995\n",
      "Epoch 49/100\n",
      "413/413 [==============================] - 1s 2ms/step - loss: 0.3731 - val_loss: 0.3954\n",
      "Epoch 50/100\n",
      "413/413 [==============================] - 1s 1ms/step - loss: 0.3725 - val_loss: 0.3939\n",
      "Epoch 51/100\n",
      "413/413 [==============================] - 1s 1ms/step - loss: 0.3718 - val_loss: 0.3952\n",
      "Epoch 52/100\n",
      "413/413 [==============================] - 1s 1ms/step - loss: 0.3725 - val_loss: 0.3928\n",
      "Epoch 53/100\n",
      "413/413 [==============================] - 1s 1ms/step - loss: 0.3720 - val_loss: 0.3924\n",
      "Epoch 54/100\n",
      "413/413 [==============================] - 1s 1ms/step - loss: 0.3716 - val_loss: 0.3917\n",
      "Epoch 55/100\n",
      "413/413 [==============================] - 1s 1ms/step - loss: 0.3700 - val_loss: 0.3913\n",
      "Epoch 56/100\n",
      "413/413 [==============================] - 1s 1ms/step - loss: 0.3705 - val_loss: 0.3895\n",
      "Epoch 57/100\n",
      "413/413 [==============================] - 1s 1ms/step - loss: 0.3690 - val_loss: 0.3914\n",
      "Epoch 58/100\n",
      "413/413 [==============================] - 1s 1ms/step - loss: 0.3693 - val_loss: 0.3891\n",
      "Epoch 59/100\n",
      "413/413 [==============================] - 1s 1ms/step - loss: 0.3686 - val_loss: 0.3883\n",
      "Epoch 60/100\n",
      "413/413 [==============================] - 1s 1ms/step - loss: 0.3680 - val_loss: 0.3875\n",
      "Epoch 61/100\n",
      "413/413 [==============================] - 1s 1ms/step - loss: 0.3683 - val_loss: 0.3895\n",
      "Epoch 62/100\n",
      "413/413 [==============================] - 1s 1ms/step - loss: 0.3681 - val_loss: 0.3910\n",
      "Epoch 63/100\n",
      "413/413 [==============================] - 1s 1ms/step - loss: 0.3683 - val_loss: 0.3889\n",
      "Epoch 64/100\n",
      "413/413 [==============================] - 1s 1ms/step - loss: 0.3679 - val_loss: 0.3881\n",
      "Epoch 65/100\n",
      "413/413 [==============================] - 1s 1ms/step - loss: 0.3667 - val_loss: 0.3868\n",
      "Epoch 66/100\n",
      "413/413 [==============================] - 1s 1ms/step - loss: 0.3669 - val_loss: 0.3851\n",
      "Epoch 67/100\n",
      "413/413 [==============================] - 1s 1ms/step - loss: 0.3672 - val_loss: 0.3899\n",
      "Epoch 68/100\n",
      "413/413 [==============================] - 1s 1ms/step - loss: 0.3669 - val_loss: 0.3839\n",
      "Epoch 69/100\n",
      "413/413 [==============================] - 1s 1ms/step - loss: 0.3661 - val_loss: 0.3873\n",
      "Epoch 70/100\n",
      "413/413 [==============================] - 1s 1ms/step - loss: 0.3656 - val_loss: 0.3864\n",
      "Epoch 71/100\n",
      "413/413 [==============================] - 1s 2ms/step - loss: 0.3665 - val_loss: 0.3853\n",
      "Epoch 72/100\n",
      "413/413 [==============================] - 1s 1ms/step - loss: 0.3663 - val_loss: 0.3853\n",
      "Epoch 73/100\n",
      "413/413 [==============================] - 1s 1ms/step - loss: 0.3659 - val_loss: 0.3906\n",
      "Epoch 74/100\n",
      "413/413 [==============================] - 1s 1ms/step - loss: 0.3664 - val_loss: 0.3883\n",
      "Epoch 75/100\n",
      "413/413 [==============================] - 1s 1ms/step - loss: 0.3662 - val_loss: 0.3842\n",
      "Epoch 76/100\n",
      "413/413 [==============================] - 1s 1ms/step - loss: 0.3660 - val_loss: 0.3860\n",
      "Epoch 77/100\n",
      "413/413 [==============================] - 1s 1ms/step - loss: 0.3647 - val_loss: 0.3874\n",
      "Epoch 78/100\n",
      "413/413 [==============================] - 1s 1ms/step - loss: 0.3653 - val_loss: 0.3867\n",
      "Epoch 79/100\n",
      "413/413 [==============================] - 1s 1ms/step - loss: 0.3650 - val_loss: 0.3847\n",
      "Epoch 80/100\n",
      "413/413 [==============================] - 1s 1ms/step - loss: 0.3646 - val_loss: 0.3825\n",
      "Epoch 81/100\n",
      "413/413 [==============================] - 1s 1ms/step - loss: 0.3645 - val_loss: 0.3847\n",
      "Epoch 82/100\n",
      "413/413 [==============================] - 1s 1ms/step - loss: 0.3650 - val_loss: 0.3836\n",
      "Epoch 83/100\n",
      "413/413 [==============================] - 1s 1ms/step - loss: 0.3655 - val_loss: 0.3845\n",
      "Epoch 84/100\n",
      "413/413 [==============================] - 1s 1ms/step - loss: 0.3652 - val_loss: 0.3858\n",
      "Epoch 85/100\n",
      "413/413 [==============================] - 1s 1ms/step - loss: 0.3648 - val_loss: 0.3829\n",
      "Epoch 86/100\n",
      "413/413 [==============================] - 1s 1ms/step - loss: 0.3654 - val_loss: 0.3829\n",
      "Epoch 87/100\n",
      "413/413 [==============================] - 1s 1ms/step - loss: 0.3637 - val_loss: 0.3852\n",
      "Epoch 88/100\n",
      "413/413 [==============================] - 1s 1ms/step - loss: 0.3645 - val_loss: 0.3846\n",
      "Epoch 89/100\n",
      "413/413 [==============================] - 1s 1ms/step - loss: 0.3642 - val_loss: 0.3859\n",
      "Epoch 90/100\n",
      "413/413 [==============================] - 1s 1ms/step - loss: 0.3640 - val_loss: 0.3812\n",
      "Epoch 91/100\n",
      "413/413 [==============================] - 1s 1ms/step - loss: 0.3634 - val_loss: 0.3882\n",
      "Epoch 92/100\n",
      "413/413 [==============================] - 1s 1ms/step - loss: 0.3645 - val_loss: 0.3821\n",
      "Epoch 93/100\n",
      "413/413 [==============================] - 1s 1ms/step - loss: 0.3638 - val_loss: 0.3842\n",
      "Epoch 94/100\n",
      "413/413 [==============================] - 1s 1ms/step - loss: 0.3632 - val_loss: 0.3867\n",
      "Epoch 95/100\n",
      "413/413 [==============================] - 1s 1ms/step - loss: 0.3634 - val_loss: 0.3835\n",
      "Epoch 96/100\n",
      "413/413 [==============================] - 1s 1ms/step - loss: 0.3641 - val_loss: 0.3859\n",
      "Epoch 97/100\n",
      "413/413 [==============================] - 1s 1ms/step - loss: 0.3633 - val_loss: 0.3864\n",
      "Epoch 98/100\n",
      "413/413 [==============================] - 1s 1ms/step - loss: 0.3630 - val_loss: 0.3823\n",
      "Epoch 99/100\n",
      "413/413 [==============================] - 1s 1ms/step - loss: 0.3628 - val_loss: 0.3847\n",
      "Epoch 100/100\n",
      "413/413 [==============================] - 1s 1ms/step - loss: 0.3635 - val_loss: 0.3839\n"
     ]
    }
   ],
   "source": [
    "history = model.fit(X_train, y_train, epochs=100,validation_split=0.2, verbose=1 )"
   ]
  },
  {
   "cell_type": "code",
   "execution_count": 10,
   "metadata": {},
   "outputs": [
    {
     "data": {
      "text/html": [
       "<div>\n",
       "<style scoped>\n",
       "    .dataframe tbody tr th:only-of-type {\n",
       "        vertical-align: middle;\n",
       "    }\n",
       "\n",
       "    .dataframe tbody tr th {\n",
       "        vertical-align: top;\n",
       "    }\n",
       "\n",
       "    .dataframe thead th {\n",
       "        text-align: right;\n",
       "    }\n",
       "</style>\n",
       "<table border=\"1\" class=\"dataframe\">\n",
       "  <thead>\n",
       "    <tr style=\"text-align: right;\">\n",
       "      <th></th>\n",
       "      <th>loss</th>\n",
       "      <th>val_loss</th>\n",
       "      <th>epoch</th>\n",
       "    </tr>\n",
       "  </thead>\n",
       "  <tbody>\n",
       "    <tr>\n",
       "      <th>0</th>\n",
       "      <td>0.873228</td>\n",
       "      <td>0.604124</td>\n",
       "      <td>0</td>\n",
       "    </tr>\n",
       "    <tr>\n",
       "      <th>1</th>\n",
       "      <td>0.526682</td>\n",
       "      <td>0.510754</td>\n",
       "      <td>1</td>\n",
       "    </tr>\n",
       "    <tr>\n",
       "      <th>2</th>\n",
       "      <td>0.476056</td>\n",
       "      <td>0.477863</td>\n",
       "      <td>2</td>\n",
       "    </tr>\n",
       "    <tr>\n",
       "      <th>3</th>\n",
       "      <td>0.456244</td>\n",
       "      <td>0.468935</td>\n",
       "      <td>3</td>\n",
       "    </tr>\n",
       "    <tr>\n",
       "      <th>4</th>\n",
       "      <td>0.443409</td>\n",
       "      <td>0.459479</td>\n",
       "      <td>4</td>\n",
       "    </tr>\n",
       "    <tr>\n",
       "      <th>...</th>\n",
       "      <td>...</td>\n",
       "      <td>...</td>\n",
       "      <td>...</td>\n",
       "    </tr>\n",
       "    <tr>\n",
       "      <th>95</th>\n",
       "      <td>0.364120</td>\n",
       "      <td>0.385917</td>\n",
       "      <td>95</td>\n",
       "    </tr>\n",
       "    <tr>\n",
       "      <th>96</th>\n",
       "      <td>0.363340</td>\n",
       "      <td>0.386363</td>\n",
       "      <td>96</td>\n",
       "    </tr>\n",
       "    <tr>\n",
       "      <th>97</th>\n",
       "      <td>0.363013</td>\n",
       "      <td>0.382325</td>\n",
       "      <td>97</td>\n",
       "    </tr>\n",
       "    <tr>\n",
       "      <th>98</th>\n",
       "      <td>0.362817</td>\n",
       "      <td>0.384706</td>\n",
       "      <td>98</td>\n",
       "    </tr>\n",
       "    <tr>\n",
       "      <th>99</th>\n",
       "      <td>0.363547</td>\n",
       "      <td>0.383938</td>\n",
       "      <td>99</td>\n",
       "    </tr>\n",
       "  </tbody>\n",
       "</table>\n",
       "<p>100 rows × 3 columns</p>\n",
       "</div>"
      ],
      "text/plain": [
       "        loss  val_loss  epoch\n",
       "0   0.873228  0.604124      0\n",
       "1   0.526682  0.510754      1\n",
       "2   0.476056  0.477863      2\n",
       "3   0.456244  0.468935      3\n",
       "4   0.443409  0.459479      4\n",
       "..       ...       ...    ...\n",
       "95  0.364120  0.385917     95\n",
       "96  0.363340  0.386363     96\n",
       "97  0.363013  0.382325     97\n",
       "98  0.362817  0.384706     98\n",
       "99  0.363547  0.383938     99\n",
       "\n",
       "[100 rows x 3 columns]"
      ]
     },
     "execution_count": 10,
     "metadata": {},
     "output_type": "execute_result"
    }
   ],
   "source": [
    "hist = pd.DataFrame(history.history)\n",
    "hist['epoch'] = history.epoch\n",
    "hist"
   ]
  },
  {
   "cell_type": "code",
   "execution_count": 11,
   "metadata": {},
   "outputs": [],
   "source": [
    "def plot_loss(history):\n",
    "    plt.plot(history.history['loss'], label='loss')\n",
    "    plt.plot(history.history['val_loss'], label='val_loss')\n",
    "    plt.xlabel('Epoch')\n",
    "    plt.ylabel('Error')\n",
    "    plt.legend()\n",
    "    plt.grid(True)"
   ]
  },
  {
   "cell_type": "code",
   "execution_count": 12,
   "metadata": {},
   "outputs": [
    {
     "data": {
      "image/png": "[encoded data removed]",
      "text/plain": [
       "<Figure size 640x480 with 1 Axes>"
      ]
     },
     "metadata": {},
     "output_type": "display_data"
    }
   ],
   "source": [
    "plot_loss(history)"
   ]
  },
  {
   "cell_type": "code",
   "execution_count": 13,
   "metadata": {},
   "outputs": [
    {
     "name": "stdout",
     "output_type": "stream",
     "text": [
      "129/129 [==============================] - 0s 1ms/step - loss: 0.3794\n"
     ]
    },
    {
     "data": {
      "text/plain": [
       "0.3793664574623108"
      ]
     },
     "execution_count": 13,
     "metadata": {},
     "output_type": "execute_result"
    }
   ],
   "source": [
    "model.evaluate(X_test,y_test)"
   ]
  },
  {
   "cell_type": "code",
   "execution_count": 14,
   "metadata": {},
   "outputs": [],
   "source": [
    "model = keras.Sequential([normalizer,\n",
    "                          layers.Dense(64, activation='relu'),\n",
    "                           layers.Dense(32, activation='relu'), \n",
    "                           layers.Dense(1)])\n",
    "\n",
    "model.compile(loss='mean_absolute_error', optimizer=tf.keras.optimizers.Adam(0.001))"
   ]
  },
  {
   "cell_type": "code",
   "execution_count": 15,
   "metadata": {},
   "outputs": [
    {
     "name": "stdout",
     "output_type": "stream",
     "text": [
      "Model: \"sequential_1\"\n",
      "_________________________________________________________________\n",
      " Layer (type)                Output Shape              Param #   \n",
      "=================================================================\n",
      " normalization (Normalizatio  (None, 8)                17        \n",
      " n)                                                              \n",
      "                                                                 \n",
      " dense_2 (Dense)             (None, 64)                576       \n",
      "                                                                 \n",
      " dense_3 (Dense)             (None, 32)                2080      \n",
      "                                                                 \n",
      " dense_4 (Dense)             (None, 1)                 33        \n",
      "                                                                 \n",
      "=================================================================\n",
      "Total params: 2,706\n",
      "Trainable params: 2,689\n",
      "Non-trainable params: 17\n",
      "_________________________________________________________________\n"
     ]
    }
   ],
   "source": [
    "model.summary()"
   ]
  },
  {
   "cell_type": "code",
   "execution_count": 16,
   "metadata": {},
   "outputs": [
    {
     "name": "stdout",
     "output_type": "stream",
     "text": [
      "Epoch 1/100\n",
      "413/413 [==============================] - 1s 2ms/step - loss: 0.6380 - val_loss: 0.4768\n",
      "Epoch 2/100\n",
      "413/413 [==============================] - 1s 1ms/step - loss: 0.4385 - val_loss: 0.4419\n",
      "Epoch 3/100\n",
      "413/413 [==============================] - 1s 1ms/step - loss: 0.4196 - val_loss: 0.4342\n",
      "Epoch 4/100\n",
      "413/413 [==============================] - 1s 1ms/step - loss: 0.4093 - val_loss: 0.4220\n",
      "Epoch 5/100\n",
      "413/413 [==============================] - 1s 2ms/step - loss: 0.4002 - val_loss: 0.4252\n",
      "Epoch 6/100\n",
      "413/413 [==============================] - 1s 1ms/step - loss: 0.3935 - val_loss: 0.4063\n",
      "Epoch 7/100\n",
      "413/413 [==============================] - 1s 1ms/step - loss: 0.3882 - val_loss: 0.4016\n",
      "Epoch 8/100\n",
      "413/413 [==============================] - 1s 1ms/step - loss: 0.3834 - val_loss: 0.3975\n",
      "Epoch 9/100\n",
      "413/413 [==============================] - 1s 1ms/step - loss: 0.3790 - val_loss: 0.3956\n",
      "Epoch 10/100\n",
      "413/413 [==============================] - 1s 1ms/step - loss: 0.3760 - val_loss: 0.3992\n",
      "Epoch 11/100\n",
      "413/413 [==============================] - 1s 1ms/step - loss: 0.3715 - val_loss: 0.4067\n",
      "Epoch 12/100\n",
      "413/413 [==============================] - 1s 1ms/step - loss: 0.3678 - val_loss: 0.3813\n",
      "Epoch 13/100\n",
      "413/413 [==============================] - 1s 1ms/step - loss: 0.3628 - val_loss: 0.3794\n",
      "Epoch 14/100\n",
      "413/413 [==============================] - 1s 1ms/step - loss: 0.3616 - val_loss: 0.3913\n",
      "Epoch 15/100\n",
      "413/413 [==============================] - 1s 1ms/step - loss: 0.3578 - val_loss: 0.3861\n",
      "Epoch 16/100\n",
      "413/413 [==============================] - 1s 1ms/step - loss: 0.3569 - val_loss: 0.3696\n",
      "Epoch 17/100\n",
      "413/413 [==============================] - 1s 1ms/step - loss: 0.3534 - val_loss: 0.3665\n",
      "Epoch 18/100\n",
      "413/413 [==============================] - 1s 1ms/step - loss: 0.3531 - val_loss: 0.3683\n",
      "Epoch 19/100\n",
      "413/413 [==============================] - 1s 1ms/step - loss: 0.3516 - val_loss: 0.3700\n",
      "Epoch 20/100\n",
      "413/413 [==============================] - 1s 1ms/step - loss: 0.3503 - val_loss: 0.3681\n",
      "Epoch 21/100\n",
      "413/413 [==============================] - 1s 1ms/step - loss: 0.3484 - val_loss: 0.3668\n",
      "Epoch 22/100\n",
      "413/413 [==============================] - 1s 1ms/step - loss: 0.3481 - val_loss: 0.3675\n",
      "Epoch 23/100\n",
      "413/413 [==============================] - 1s 1ms/step - loss: 0.3464 - val_loss: 0.3633\n",
      "Epoch 24/100\n",
      "413/413 [==============================] - 1s 1ms/step - loss: 0.3467 - val_loss: 0.3605\n",
      "Epoch 25/100\n",
      "413/413 [==============================] - 1s 1ms/step - loss: 0.3448 - val_loss: 0.3631\n",
      "Epoch 26/100\n",
      "413/413 [==============================] - 1s 1ms/step - loss: 0.3435 - val_loss: 0.3683\n",
      "Epoch 27/100\n",
      "413/413 [==============================] - 1s 1ms/step - loss: 0.3437 - val_loss: 0.3586\n",
      "Epoch 28/100\n",
      "413/413 [==============================] - 1s 1ms/step - loss: 0.3406 - val_loss: 0.3630\n",
      "Epoch 29/100\n",
      "413/413 [==============================] - 1s 1ms/step - loss: 0.3404 - val_loss: 0.3646\n",
      "Epoch 30/100\n",
      "413/413 [==============================] - 1s 1ms/step - loss: 0.3392 - val_loss: 0.3685\n",
      "Epoch 31/100\n",
      "413/413 [==============================] - 1s 1ms/step - loss: 0.3395 - val_loss: 0.3553\n",
      "Epoch 32/100\n",
      "413/413 [==============================] - 1s 1ms/step - loss: 0.3381 - val_loss: 0.3613\n",
      "Epoch 33/100\n",
      "413/413 [==============================] - 1s 1ms/step - loss: 0.3374 - val_loss: 0.3535\n",
      "Epoch 34/100\n",
      "413/413 [==============================] - 1s 1ms/step - loss: 0.3369 - val_loss: 0.3561\n",
      "Epoch 35/100\n",
      "413/413 [==============================] - 1s 1ms/step - loss: 0.3355 - val_loss: 0.3567\n",
      "Epoch 36/100\n",
      "413/413 [==============================] - 1s 1ms/step - loss: 0.3360 - val_loss: 0.3673\n",
      "Epoch 37/100\n",
      "413/413 [==============================] - 1s 1ms/step - loss: 0.3351 - val_loss: 0.3540\n",
      "Epoch 38/100\n",
      "413/413 [==============================] - 1s 1ms/step - loss: 0.3343 - val_loss: 0.3613\n",
      "Epoch 39/100\n",
      "413/413 [==============================] - 1s 1ms/step - loss: 0.3334 - val_loss: 0.3536\n",
      "Epoch 40/100\n",
      "413/413 [==============================] - 1s 1ms/step - loss: 0.3324 - val_loss: 0.3559\n",
      "Epoch 41/100\n",
      "413/413 [==============================] - 1s 1ms/step - loss: 0.3312 - val_loss: 0.3544\n",
      "Epoch 42/100\n",
      "413/413 [==============================] - 1s 1ms/step - loss: 0.3319 - val_loss: 0.3649\n",
      "Epoch 43/100\n",
      "413/413 [==============================] - 1s 1ms/step - loss: 0.3310 - val_loss: 0.3584\n",
      "Epoch 44/100\n",
      "413/413 [==============================] - 1s 1ms/step - loss: 0.3305 - val_loss: 0.3526\n",
      "Epoch 45/100\n",
      "413/413 [==============================] - 1s 1ms/step - loss: 0.3292 - val_loss: 0.3573\n",
      "Epoch 46/100\n",
      "413/413 [==============================] - 1s 1ms/step - loss: 0.3287 - val_loss: 0.3501\n",
      "Epoch 47/100\n",
      "413/413 [==============================] - 1s 1ms/step - loss: 0.3278 - val_loss: 0.3489\n",
      "Epoch 48/100\n",
      "413/413 [==============================] - 1s 2ms/step - loss: 0.3289 - val_loss: 0.3505\n",
      "Epoch 49/100\n",
      "413/413 [==============================] - 1s 1ms/step - loss: 0.3273 - val_loss: 0.3515\n",
      "Epoch 50/100\n",
      "413/413 [==============================] - 1s 1ms/step - loss: 0.3273 - val_loss: 0.3473\n",
      "Epoch 51/100\n",
      "413/413 [==============================] - 1s 1ms/step - loss: 0.3259 - val_loss: 0.3591\n",
      "Epoch 52/100\n",
      "413/413 [==============================] - 1s 1ms/step - loss: 0.3274 - val_loss: 0.3493\n",
      "Epoch 53/100\n",
      "413/413 [==============================] - 1s 1ms/step - loss: 0.3258 - val_loss: 0.3467\n",
      "Epoch 54/100\n",
      "413/413 [==============================] - 1s 1ms/step - loss: 0.3245 - val_loss: 0.3484\n",
      "Epoch 55/100\n",
      "413/413 [==============================] - 1s 1ms/step - loss: 0.3252 - val_loss: 0.3510\n",
      "Epoch 56/100\n",
      "413/413 [==============================] - 1s 1ms/step - loss: 0.3253 - val_loss: 0.3475\n",
      "Epoch 57/100\n",
      "413/413 [==============================] - 1s 1ms/step - loss: 0.3239 - val_loss: 0.3455\n",
      "Epoch 58/100\n",
      "413/413 [==============================] - 1s 1ms/step - loss: 0.3248 - val_loss: 0.3481\n",
      "Epoch 59/100\n",
      "413/413 [==============================] - 1s 1ms/step - loss: 0.3245 - val_loss: 0.3432\n",
      "Epoch 60/100\n",
      "413/413 [==============================] - 1s 1ms/step - loss: 0.3224 - val_loss: 0.3492\n",
      "Epoch 61/100\n",
      "413/413 [==============================] - 1s 1ms/step - loss: 0.3232 - val_loss: 0.3496\n",
      "Epoch 62/100\n",
      "413/413 [==============================] - 1s 1ms/step - loss: 0.3229 - val_loss: 0.3486\n",
      "Epoch 63/100\n",
      "413/413 [==============================] - 1s 1ms/step - loss: 0.3228 - val_loss: 0.3463\n",
      "Epoch 64/100\n",
      "413/413 [==============================] - 1s 1ms/step - loss: 0.3206 - val_loss: 0.3539\n",
      "Epoch 65/100\n",
      "413/413 [==============================] - 1s 1ms/step - loss: 0.3212 - val_loss: 0.3423\n",
      "Epoch 66/100\n",
      "413/413 [==============================] - 1s 1ms/step - loss: 0.3210 - val_loss: 0.3470\n",
      "Epoch 67/100\n",
      "413/413 [==============================] - 1s 1ms/step - loss: 0.3220 - val_loss: 0.3469\n",
      "Epoch 68/100\n",
      "413/413 [==============================] - 1s 1ms/step - loss: 0.3214 - val_loss: 0.3424\n",
      "Epoch 69/100\n",
      "413/413 [==============================] - 1s 1ms/step - loss: 0.3207 - val_loss: 0.3427\n",
      "Epoch 70/100\n",
      "413/413 [==============================] - 1s 1ms/step - loss: 0.3198 - val_loss: 0.3440\n",
      "Epoch 71/100\n",
      "413/413 [==============================] - 1s 1ms/step - loss: 0.3202 - val_loss: 0.3465\n",
      "Epoch 72/100\n",
      "413/413 [==============================] - 1s 1ms/step - loss: 0.3187 - val_loss: 0.3403\n",
      "Epoch 73/100\n",
      "413/413 [==============================] - 1s 1ms/step - loss: 0.3183 - val_loss: 0.3447\n",
      "Epoch 74/100\n",
      "413/413 [==============================] - 1s 1ms/step - loss: 0.3172 - val_loss: 0.3443\n",
      "Epoch 75/100\n",
      "413/413 [==============================] - 1s 1ms/step - loss: 0.3181 - val_loss: 0.3398\n",
      "Epoch 76/100\n",
      "413/413 [==============================] - 1s 1ms/step - loss: 0.3192 - val_loss: 0.3513\n",
      "Epoch 77/100\n",
      "413/413 [==============================] - 1s 1ms/step - loss: 0.3162 - val_loss: 0.3471\n",
      "Epoch 78/100\n",
      "413/413 [==============================] - 1s 1ms/step - loss: 0.3178 - val_loss: 0.3437\n",
      "Epoch 79/100\n",
      "413/413 [==============================] - 1s 1ms/step - loss: 0.3169 - val_loss: 0.3400\n",
      "Epoch 80/100\n",
      "413/413 [==============================] - 1s 1ms/step - loss: 0.3174 - val_loss: 0.3417\n",
      "Epoch 81/100\n",
      "413/413 [==============================] - 1s 1ms/step - loss: 0.3165 - val_loss: 0.3422\n",
      "Epoch 82/100\n",
      "413/413 [==============================] - 1s 1ms/step - loss: 0.3157 - val_loss: 0.3401\n",
      "Epoch 83/100\n",
      "413/413 [==============================] - 1s 1ms/step - loss: 0.3155 - val_loss: 0.3387\n",
      "Epoch 84/100\n",
      "413/413 [==============================] - 1s 1ms/step - loss: 0.3153 - val_loss: 0.3451\n",
      "Epoch 85/100\n",
      "413/413 [==============================] - 1s 1ms/step - loss: 0.3163 - val_loss: 0.3430\n",
      "Epoch 86/100\n",
      "413/413 [==============================] - 1s 1ms/step - loss: 0.3164 - val_loss: 0.3411\n",
      "Epoch 87/100\n",
      "413/413 [==============================] - 1s 1ms/step - loss: 0.3143 - val_loss: 0.3413\n",
      "Epoch 88/100\n",
      "413/413 [==============================] - 1s 1ms/step - loss: 0.3152 - val_loss: 0.3377\n",
      "Epoch 89/100\n",
      "413/413 [==============================] - 1s 2ms/step - loss: 0.3138 - val_loss: 0.3400\n",
      "Epoch 90/100\n",
      "413/413 [==============================] - 1s 1ms/step - loss: 0.3141 - val_loss: 0.3489\n",
      "Epoch 91/100\n",
      "413/413 [==============================] - 1s 1ms/step - loss: 0.3147 - val_loss: 0.3435\n",
      "Epoch 92/100\n",
      "413/413 [==============================] - 1s 1ms/step - loss: 0.3142 - val_loss: 0.3368\n",
      "Epoch 93/100\n",
      "413/413 [==============================] - 1s 1ms/step - loss: 0.3130 - val_loss: 0.3398\n",
      "Epoch 94/100\n",
      "413/413 [==============================] - 1s 1ms/step - loss: 0.3121 - val_loss: 0.3414\n",
      "Epoch 95/100\n",
      "413/413 [==============================] - 1s 1ms/step - loss: 0.3134 - val_loss: 0.3402\n",
      "Epoch 96/100\n",
      "413/413 [==============================] - 1s 1ms/step - loss: 0.3138 - val_loss: 0.3410\n",
      "Epoch 97/100\n",
      "413/413 [==============================] - 1s 1ms/step - loss: 0.3115 - val_loss: 0.3365\n",
      "Epoch 98/100\n",
      "413/413 [==============================] - 1s 1ms/step - loss: 0.3113 - val_loss: 0.3365\n",
      "Epoch 99/100\n",
      "413/413 [==============================] - 1s 1ms/step - loss: 0.3110 - val_loss: 0.3377\n",
      "Epoch 100/100\n",
      "413/413 [==============================] - 1s 1ms/step - loss: 0.3110 - val_loss: 0.3384\n"
     ]
    }
   ],
   "source": [
    "history = model.fit(X_train, y_train, epochs=100,validation_split=0.2, verbose=1 )"
   ]
  },
  {
   "cell_type": "code",
   "execution_count": 17,
   "metadata": {},
   "outputs": [
    {
     "data": {
      "text/plain": [
       "0.3372498154640198"
      ]
     },
     "execution_count": 17,
     "metadata": {},
     "output_type": "execute_result"
    }
   ],
   "source": [
    "model.evaluate(X_test, y_test, verbose=0)"
   ]
  },
  {
   "cell_type": "code",
   "execution_count": 18,
   "metadata": {},
   "outputs": [
    {
     "data": {
      "image/png": "[encoded data removed]",
      "text/plain": [
       "<Figure size 640x480 with 1 Axes>"
      ]
     },
     "metadata": {},
     "output_type": "display_data"
    }
   ],
   "source": [
    "plot_loss(history)"
   ]
  },
  {
   "cell_type": "code",
   "execution_count": 19,
   "metadata": {},
   "outputs": [],
   "source": [
    "early_stop = keras.callbacks.EarlyStopping(monitor='val_loss', patience=10)"
   ]
  },
  {
   "cell_type": "code",
   "execution_count": 20,
   "metadata": {},
   "outputs": [],
   "source": [
    "model = keras.Sequential([normalizer,\n",
    "                          layers.Dense(64, activation='relu'),\n",
    "                           layers.Dense(32, activation='relu'), \n",
    "                           layers.Dense(1)])\n",
    "\n",
    "model.compile(loss='mean_absolute_error', optimizer=tf.keras.optimizers.Adam(0.001))"
   ]
  },
  {
   "cell_type": "code",
   "execution_count": 21,
   "metadata": {},
   "outputs": [
    {
     "name": "stdout",
     "output_type": "stream",
     "text": [
      "Epoch 1/100\n",
      "413/413 [==============================] - 1s 2ms/step - loss: 0.6450 - val_loss: 0.4862\n",
      "Epoch 2/100\n",
      "413/413 [==============================] - 1s 1ms/step - loss: 0.4482 - val_loss: 0.4502\n",
      "Epoch 3/100\n",
      "413/413 [==============================] - 1s 1ms/step - loss: 0.4261 - val_loss: 0.4371\n",
      "Epoch 4/100\n",
      "413/413 [==============================] - 1s 1ms/step - loss: 0.4151 - val_loss: 0.4385\n",
      "Epoch 5/100\n",
      "413/413 [==============================] - 1s 1ms/step - loss: 0.4063 - val_loss: 0.4253\n",
      "Epoch 6/100\n",
      "413/413 [==============================] - 1s 1ms/step - loss: 0.3985 - val_loss: 0.4142\n",
      "Epoch 7/100\n",
      "413/413 [==============================] - 1s 1ms/step - loss: 0.3918 - val_loss: 0.4053\n",
      "Epoch 8/100\n",
      "413/413 [==============================] - 1s 1ms/step - loss: 0.3875 - val_loss: 0.3958\n",
      "Epoch 9/100\n",
      "413/413 [==============================] - 1s 1ms/step - loss: 0.3798 - val_loss: 0.3928\n",
      "Epoch 10/100\n",
      "413/413 [==============================] - 1s 1ms/step - loss: 0.3752 - val_loss: 0.3912\n",
      "Epoch 11/100\n",
      "413/413 [==============================] - 1s 1ms/step - loss: 0.3720 - val_loss: 0.3967\n",
      "Epoch 12/100\n",
      "413/413 [==============================] - 1s 1ms/step - loss: 0.3658 - val_loss: 0.3803\n",
      "Epoch 13/100\n",
      "413/413 [==============================] - 1s 1ms/step - loss: 0.3614 - val_loss: 0.3833\n",
      "Epoch 14/100\n",
      "413/413 [==============================] - 1s 1ms/step - loss: 0.3602 - val_loss: 0.3869\n",
      "Epoch 15/100\n",
      "413/413 [==============================] - 1s 1ms/step - loss: 0.3567 - val_loss: 0.3830\n",
      "Epoch 16/100\n",
      "413/413 [==============================] - 1s 1ms/step - loss: 0.3540 - val_loss: 0.3749\n",
      "Epoch 17/100\n",
      "413/413 [==============================] - 1s 1ms/step - loss: 0.3511 - val_loss: 0.3653\n",
      "Epoch 18/100\n",
      "413/413 [==============================] - 1s 1ms/step - loss: 0.3513 - val_loss: 0.3678\n",
      "Epoch 19/100\n",
      "413/413 [==============================] - 1s 1ms/step - loss: 0.3486 - val_loss: 0.3686\n",
      "Epoch 20/100\n",
      "413/413 [==============================] - 1s 1ms/step - loss: 0.3464 - val_loss: 0.3646\n",
      "Epoch 21/100\n",
      "413/413 [==============================] - 1s 1ms/step - loss: 0.3462 - val_loss: 0.3655\n",
      "Epoch 22/100\n",
      "413/413 [==============================] - 1s 1ms/step - loss: 0.3440 - val_loss: 0.3605\n",
      "Epoch 23/100\n",
      "413/413 [==============================] - 1s 1ms/step - loss: 0.3421 - val_loss: 0.3699\n",
      "Epoch 24/100\n",
      "413/413 [==============================] - 1s 1ms/step - loss: 0.3402 - val_loss: 0.3560\n",
      "Epoch 25/100\n",
      "413/413 [==============================] - 1s 1ms/step - loss: 0.3399 - val_loss: 0.3579\n",
      "Epoch 26/100\n",
      "413/413 [==============================] - 1s 1ms/step - loss: 0.3377 - val_loss: 0.3684\n",
      "Epoch 27/100\n",
      "413/413 [==============================] - 1s 1ms/step - loss: 0.3379 - val_loss: 0.3604\n",
      "Epoch 28/100\n",
      "413/413 [==============================] - 1s 1ms/step - loss: 0.3361 - val_loss: 0.3575\n",
      "Epoch 29/100\n",
      "413/413 [==============================] - 1s 1ms/step - loss: 0.3361 - val_loss: 0.3670\n",
      "Epoch 30/100\n",
      "413/413 [==============================] - 1s 1ms/step - loss: 0.3348 - val_loss: 0.3617\n",
      "Epoch 31/100\n",
      "413/413 [==============================] - 1s 1ms/step - loss: 0.3333 - val_loss: 0.3522\n",
      "Epoch 32/100\n",
      "413/413 [==============================] - 1s 1ms/step - loss: 0.3320 - val_loss: 0.3549\n",
      "Epoch 33/100\n",
      "413/413 [==============================] - 1s 1ms/step - loss: 0.3329 - val_loss: 0.3519\n",
      "Epoch 34/100\n",
      "413/413 [==============================] - 1s 1ms/step - loss: 0.3317 - val_loss: 0.3525\n",
      "Epoch 35/100\n",
      "413/413 [==============================] - 1s 1ms/step - loss: 0.3288 - val_loss: 0.3576\n",
      "Epoch 36/100\n",
      "413/413 [==============================] - 1s 1ms/step - loss: 0.3285 - val_loss: 0.3699\n",
      "Epoch 37/100\n",
      "413/413 [==============================] - 1s 1ms/step - loss: 0.3278 - val_loss: 0.3565\n",
      "Epoch 38/100\n",
      "413/413 [==============================] - 1s 1ms/step - loss: 0.3274 - val_loss: 0.3560\n",
      "Epoch 39/100\n",
      "413/413 [==============================] - 1s 1ms/step - loss: 0.3278 - val_loss: 0.3632\n",
      "Epoch 40/100\n",
      "413/413 [==============================] - 1s 1ms/step - loss: 0.3261 - val_loss: 0.3484\n",
      "Epoch 41/100\n",
      "413/413 [==============================] - 1s 1ms/step - loss: 0.3259 - val_loss: 0.3486\n",
      "Epoch 42/100\n",
      "413/413 [==============================] - 1s 1ms/step - loss: 0.3250 - val_loss: 0.3583\n",
      "Epoch 43/100\n",
      "413/413 [==============================] - 1s 1ms/step - loss: 0.3244 - val_loss: 0.3476\n",
      "Epoch 44/100\n",
      "413/413 [==============================] - 1s 1ms/step - loss: 0.3244 - val_loss: 0.3499\n",
      "Epoch 45/100\n",
      "413/413 [==============================] - 1s 1ms/step - loss: 0.3239 - val_loss: 0.3553\n",
      "Epoch 46/100\n",
      "413/413 [==============================] - 1s 1ms/step - loss: 0.3235 - val_loss: 0.3455\n",
      "Epoch 47/100\n",
      "413/413 [==============================] - 1s 1ms/step - loss: 0.3226 - val_loss: 0.3440\n",
      "Epoch 48/100\n",
      "413/413 [==============================] - 1s 1ms/step - loss: 0.3225 - val_loss: 0.3403\n",
      "Epoch 49/100\n",
      "413/413 [==============================] - 1s 1ms/step - loss: 0.3210 - val_loss: 0.3512\n",
      "Epoch 50/100\n",
      "413/413 [==============================] - 1s 1ms/step - loss: 0.3221 - val_loss: 0.3462\n",
      "Epoch 51/100\n",
      "413/413 [==============================] - 1s 1ms/step - loss: 0.3201 - val_loss: 0.3438\n",
      "Epoch 52/100\n",
      "413/413 [==============================] - 1s 1ms/step - loss: 0.3222 - val_loss: 0.3434\n",
      "Epoch 53/100\n",
      "413/413 [==============================] - 1s 1ms/step - loss: 0.3199 - val_loss: 0.3471\n",
      "Epoch 54/100\n",
      "413/413 [==============================] - 1s 1ms/step - loss: 0.3187 - val_loss: 0.3415\n",
      "Epoch 55/100\n",
      "413/413 [==============================] - 1s 1ms/step - loss: 0.3196 - val_loss: 0.3448\n",
      "Epoch 56/100\n",
      "413/413 [==============================] - 1s 1ms/step - loss: 0.3190 - val_loss: 0.3429\n",
      "Epoch 57/100\n",
      "413/413 [==============================] - 1s 1ms/step - loss: 0.3194 - val_loss: 0.3504\n",
      "Epoch 58/100\n",
      "413/413 [==============================] - 1s 1ms/step - loss: 0.3188 - val_loss: 0.3420\n"
     ]
    }
   ],
   "source": [
    "history = model.fit(X_train, y_train, epochs=100,validation_split=0.2, verbose=1, callbacks=[early_stop] )"
   ]
  },
  {
   "cell_type": "code",
   "execution_count": 22,
   "metadata": {},
   "outputs": [
    {
     "data": {
      "image/png": "[encoded data removed]",
      "text/plain": [
       "<Figure size 640x480 with 1 Axes>"
      ]
     },
     "metadata": {},
     "output_type": "display_data"
    }
   ],
   "source": [
    "plot_loss(history)"
   ]
  },
  {
   "cell_type": "code",
   "execution_count": 23,
   "metadata": {},
   "outputs": [
    {
     "name": "stdout",
     "output_type": "stream",
     "text": [
      "129/129 [==============================] - 0s 1ms/step - loss: 0.3449\n"
     ]
    },
    {
     "data": {
      "text/plain": [
       "0.3448728024959564"
      ]
     },
     "execution_count": 23,
     "metadata": {},
     "output_type": "execute_result"
    }
   ],
   "source": [
    "model.evaluate(X_test, y_test)"
   ]
  },
  {
   "cell_type": "code",
   "execution_count": 24,
   "metadata": {},
   "outputs": [],
   "source": [
    "model = keras.Sequential([normalizer,\n",
    "                          layers.Dense(128, activation='relu'),\n",
    "                           layers.Dense(64, activation='relu'), \n",
    "                           layers.Dense(1)])\n",
    "\n",
    "model.compile(loss='mean_absolute_error', optimizer=tf.keras.optimizers.Adam(0.001))"
   ]
  },
  {
   "cell_type": "code",
   "execution_count": 25,
   "metadata": {},
   "outputs": [
    {
     "name": "stdout",
     "output_type": "stream",
     "text": [
      "Epoch 1/100\n",
      "413/413 [==============================] - 1s 2ms/step - loss: 0.5608 - val_loss: 0.4628\n",
      "Epoch 2/100\n",
      "413/413 [==============================] - 1s 1ms/step - loss: 0.4283 - val_loss: 0.4251\n",
      "Epoch 3/100\n",
      "413/413 [==============================] - 1s 2ms/step - loss: 0.4070 - val_loss: 0.4125\n",
      "Epoch 4/100\n",
      "413/413 [==============================] - 1s 2ms/step - loss: 0.3944 - val_loss: 0.4121\n",
      "Epoch 5/100\n",
      "413/413 [==============================] - 1s 2ms/step - loss: 0.3806 - val_loss: 0.3920\n",
      "Epoch 6/100\n",
      "413/413 [==============================] - 1s 2ms/step - loss: 0.3739 - val_loss: 0.3825\n",
      "Epoch 7/100\n",
      "413/413 [==============================] - 1s 2ms/step - loss: 0.3674 - val_loss: 0.3883\n",
      "Epoch 8/100\n",
      "413/413 [==============================] - 1s 2ms/step - loss: 0.3634 - val_loss: 0.3686\n",
      "Epoch 9/100\n",
      "413/413 [==============================] - 1s 2ms/step - loss: 0.3582 - val_loss: 0.3758\n",
      "Epoch 10/100\n",
      "413/413 [==============================] - 1s 2ms/step - loss: 0.3546 - val_loss: 0.3675\n",
      "Epoch 11/100\n",
      "413/413 [==============================] - 1s 2ms/step - loss: 0.3514 - val_loss: 0.3741\n",
      "Epoch 12/100\n",
      "413/413 [==============================] - 1s 2ms/step - loss: 0.3490 - val_loss: 0.3642\n",
      "Epoch 13/100\n",
      "413/413 [==============================] - 1s 2ms/step - loss: 0.3458 - val_loss: 0.3745\n",
      "Epoch 14/100\n",
      "413/413 [==============================] - 1s 2ms/step - loss: 0.3448 - val_loss: 0.3692\n",
      "Epoch 15/100\n",
      "413/413 [==============================] - 1s 2ms/step - loss: 0.3416 - val_loss: 0.3636\n",
      "Epoch 16/100\n",
      "413/413 [==============================] - 1s 1ms/step - loss: 0.3403 - val_loss: 0.3580\n",
      "Epoch 17/100\n",
      "413/413 [==============================] - 1s 1ms/step - loss: 0.3381 - val_loss: 0.3582\n",
      "Epoch 18/100\n",
      "413/413 [==============================] - 1s 2ms/step - loss: 0.3357 - val_loss: 0.3517\n",
      "Epoch 19/100\n",
      "413/413 [==============================] - 1s 2ms/step - loss: 0.3367 - val_loss: 0.3504\n",
      "Epoch 20/100\n",
      "413/413 [==============================] - 1s 2ms/step - loss: 0.3324 - val_loss: 0.3486\n",
      "Epoch 21/100\n",
      "413/413 [==============================] - 1s 2ms/step - loss: 0.3315 - val_loss: 0.3598\n",
      "Epoch 22/100\n",
      "413/413 [==============================] - 1s 2ms/step - loss: 0.3300 - val_loss: 0.3438\n",
      "Epoch 23/100\n",
      "413/413 [==============================] - 1s 2ms/step - loss: 0.3295 - val_loss: 0.3475\n",
      "Epoch 24/100\n",
      "413/413 [==============================] - 1s 1ms/step - loss: 0.3290 - val_loss: 0.3438\n",
      "Epoch 25/100\n",
      "413/413 [==============================] - 1s 2ms/step - loss: 0.3267 - val_loss: 0.3508\n",
      "Epoch 26/100\n",
      "413/413 [==============================] - 1s 2ms/step - loss: 0.3240 - val_loss: 0.3533\n",
      "Epoch 27/100\n",
      "413/413 [==============================] - 1s 2ms/step - loss: 0.3237 - val_loss: 0.3410\n",
      "Epoch 28/100\n",
      "413/413 [==============================] - 1s 2ms/step - loss: 0.3214 - val_loss: 0.3405\n",
      "Epoch 29/100\n",
      "413/413 [==============================] - 1s 2ms/step - loss: 0.3219 - val_loss: 0.3439\n",
      "Epoch 30/100\n",
      "413/413 [==============================] - 1s 1ms/step - loss: 0.3202 - val_loss: 0.3491\n",
      "Epoch 31/100\n",
      "413/413 [==============================] - 1s 2ms/step - loss: 0.3182 - val_loss: 0.3352\n",
      "Epoch 32/100\n",
      "413/413 [==============================] - 1s 2ms/step - loss: 0.3175 - val_loss: 0.3487\n",
      "Epoch 33/100\n",
      "413/413 [==============================] - 1s 2ms/step - loss: 0.3178 - val_loss: 0.3410\n",
      "Epoch 34/100\n",
      "413/413 [==============================] - 1s 2ms/step - loss: 0.3185 - val_loss: 0.3377\n",
      "Epoch 35/100\n",
      "413/413 [==============================] - 1s 2ms/step - loss: 0.3151 - val_loss: 0.3370\n",
      "Epoch 36/100\n",
      "413/413 [==============================] - 1s 2ms/step - loss: 0.3157 - val_loss: 0.3558\n",
      "Epoch 37/100\n",
      "413/413 [==============================] - 1s 2ms/step - loss: 0.3131 - val_loss: 0.3388\n",
      "Epoch 38/100\n",
      "413/413 [==============================] - 1s 1ms/step - loss: 0.3128 - val_loss: 0.3408\n",
      "Epoch 39/100\n",
      "413/413 [==============================] - 1s 2ms/step - loss: 0.3127 - val_loss: 0.3403\n",
      "Epoch 40/100\n",
      "413/413 [==============================] - 1s 2ms/step - loss: 0.3109 - val_loss: 0.3420\n",
      "Epoch 41/100\n",
      "413/413 [==============================] - 1s 2ms/step - loss: 0.3115 - val_loss: 0.3437\n"
     ]
    },
    {
     "data": {
      "text/plain": [
       "<keras.callbacks.History at 0x7f00d57a7460>"
      ]
     },
     "execution_count": 25,
     "metadata": {},
     "output_type": "execute_result"
    }
   ],
   "source": [
    "model.fit(X_train, y_train, epochs=100,validation_split=0.2, verbose=1, callbacks=[early_stop] )"
   ]
  },
  {
   "cell_type": "code",
   "execution_count": 26,
   "metadata": {},
   "outputs": [
    {
     "data": {
      "image/png": "[encoded data removed]",
      "text/plain": [
       "<Figure size 640x480 with 1 Axes>"
      ]
     },
     "metadata": {},
     "output_type": "display_data"
    }
   ],
   "source": [
    "plot_loss(history)"
   ]
  },
  {
   "cell_type": "code",
   "execution_count": 27,
   "metadata": {},
   "outputs": [
    {
     "name": "stdout",
     "output_type": "stream",
     "text": [
      "129/129 [==============================] - 0s 1ms/step - loss: 0.3394\n"
     ]
    },
    {
     "data": {
      "text/plain": [
       "0.3394424319267273"
      ]
     },
     "execution_count": 27,
     "metadata": {},
     "output_type": "execute_result"
    }
   ],
   "source": [
    "model.evaluate(X_test, y_test)"
   ]
  },
  {
   "cell_type": "code",
   "execution_count": 31,
   "metadata": {},
   "outputs": [],
   "source": [
    "model = keras.Sequential([\n",
    "        normalizer,\n",
    "        layers.Dense(256, activation='relu'),\n",
    "        layers.Dense(128, activation='relu'),\n",
    "        layers.Dense(64, activation='relu'),\n",
    "        layers.Dense(1)\n",
    "    ])\n",
    "\n",
    "model.compile(loss='mean_absolute_error',\n",
    "              optimizer=tf.keras.optimizers.Adam(0.001))"
   ]
  },
  {
   "cell_type": "code",
   "execution_count": 32,
   "metadata": {},
   "outputs": [
    {
     "name": "stdout",
     "output_type": "stream",
     "text": [
      "Epoch 1/100\n",
      "413/413 [==============================] - 2s 3ms/step - loss: 0.5117 - val_loss: 0.4432\n",
      "Epoch 2/100\n",
      "413/413 [==============================] - 1s 3ms/step - loss: 0.4220 - val_loss: 0.4189\n",
      "Epoch 3/100\n",
      "413/413 [==============================] - 1s 2ms/step - loss: 0.3952 - val_loss: 0.3965\n",
      "Epoch 4/100\n",
      "413/413 [==============================] - 1s 3ms/step - loss: 0.3839 - val_loss: 0.4014\n",
      "Epoch 5/100\n",
      "413/413 [==============================] - 1s 3ms/step - loss: 0.3712 - val_loss: 0.3831\n",
      "Epoch 6/100\n",
      "413/413 [==============================] - 1s 3ms/step - loss: 0.3630 - val_loss: 0.3889\n",
      "Epoch 7/100\n",
      "413/413 [==============================] - 1s 3ms/step - loss: 0.3630 - val_loss: 0.3996\n",
      "Epoch 8/100\n",
      "413/413 [==============================] - 1s 3ms/step - loss: 0.3585 - val_loss: 0.3604\n",
      "Epoch 9/100\n",
      "413/413 [==============================] - 1s 2ms/step - loss: 0.3510 - val_loss: 0.3643\n",
      "Epoch 10/100\n",
      "413/413 [==============================] - 1s 2ms/step - loss: 0.3459 - val_loss: 0.3614\n",
      "Epoch 11/100\n",
      "413/413 [==============================] - 1s 3ms/step - loss: 0.3458 - val_loss: 0.3578\n",
      "Epoch 12/100\n",
      "413/413 [==============================] - 1s 3ms/step - loss: 0.3412 - val_loss: 0.3676\n",
      "Epoch 13/100\n",
      "413/413 [==============================] - 1s 3ms/step - loss: 0.3381 - val_loss: 0.3719\n",
      "Epoch 14/100\n",
      "413/413 [==============================] - 1s 3ms/step - loss: 0.3360 - val_loss: 0.3560\n",
      "Epoch 15/100\n",
      "413/413 [==============================] - 2s 4ms/step - loss: 0.3338 - val_loss: 0.3425\n",
      "Epoch 16/100\n",
      "413/413 [==============================] - 1s 3ms/step - loss: 0.3320 - val_loss: 0.3515\n",
      "Epoch 17/100\n",
      "413/413 [==============================] - 1s 2ms/step - loss: 0.3270 - val_loss: 0.3431\n",
      "Epoch 18/100\n",
      "413/413 [==============================] - 1s 2ms/step - loss: 0.3249 - val_loss: 0.3409\n",
      "Epoch 19/100\n",
      "413/413 [==============================] - 1s 2ms/step - loss: 0.3236 - val_loss: 0.3357\n",
      "Epoch 20/100\n",
      "413/413 [==============================] - 1s 2ms/step - loss: 0.3223 - val_loss: 0.3478\n",
      "Epoch 21/100\n",
      "413/413 [==============================] - 1s 2ms/step - loss: 0.3188 - val_loss: 0.3496\n",
      "Epoch 22/100\n",
      "413/413 [==============================] - 1s 2ms/step - loss: 0.3197 - val_loss: 0.3403\n",
      "Epoch 23/100\n",
      "413/413 [==============================] - 1s 2ms/step - loss: 0.3173 - val_loss: 0.3534\n",
      "Epoch 24/100\n",
      "413/413 [==============================] - 1s 2ms/step - loss: 0.3170 - val_loss: 0.3383\n",
      "Epoch 25/100\n",
      "413/413 [==============================] - 1s 2ms/step - loss: 0.3152 - val_loss: 0.3371\n",
      "Epoch 26/100\n",
      "413/413 [==============================] - 1s 2ms/step - loss: 0.3126 - val_loss: 0.3356\n",
      "Epoch 27/100\n",
      "413/413 [==============================] - 1s 2ms/step - loss: 0.3133 - val_loss: 0.3323\n",
      "Epoch 28/100\n",
      "413/413 [==============================] - 1s 2ms/step - loss: 0.3099 - val_loss: 0.3377\n",
      "Epoch 29/100\n",
      "413/413 [==============================] - 1s 2ms/step - loss: 0.3063 - val_loss: 0.3378\n",
      "Epoch 30/100\n",
      "413/413 [==============================] - 1s 2ms/step - loss: 0.3078 - val_loss: 0.3389\n",
      "Epoch 31/100\n",
      "413/413 [==============================] - 1s 2ms/step - loss: 0.3051 - val_loss: 0.3328\n",
      "Epoch 32/100\n",
      "413/413 [==============================] - 1s 2ms/step - loss: 0.3038 - val_loss: 0.3462\n",
      "Epoch 33/100\n",
      "413/413 [==============================] - 1s 2ms/step - loss: 0.3036 - val_loss: 0.3378\n",
      "Epoch 34/100\n",
      "413/413 [==============================] - 1s 2ms/step - loss: 0.3027 - val_loss: 0.3310\n",
      "Epoch 35/100\n",
      "413/413 [==============================] - 1s 2ms/step - loss: 0.3022 - val_loss: 0.3269\n",
      "Epoch 36/100\n",
      "413/413 [==============================] - 1s 2ms/step - loss: 0.2977 - val_loss: 0.3393\n",
      "Epoch 37/100\n",
      "413/413 [==============================] - 1s 2ms/step - loss: 0.2962 - val_loss: 0.3353\n",
      "Epoch 38/100\n",
      "413/413 [==============================] - 1s 2ms/step - loss: 0.2954 - val_loss: 0.3355\n",
      "Epoch 39/100\n",
      "413/413 [==============================] - 1s 3ms/step - loss: 0.2940 - val_loss: 0.3335\n",
      "Epoch 40/100\n",
      "413/413 [==============================] - 1s 3ms/step - loss: 0.2919 - val_loss: 0.3307\n",
      "Epoch 41/100\n",
      "413/413 [==============================] - 1s 3ms/step - loss: 0.2935 - val_loss: 0.3378\n",
      "Epoch 42/100\n",
      "413/413 [==============================] - 1s 3ms/step - loss: 0.2912 - val_loss: 0.3388\n",
      "Epoch 43/100\n",
      "413/413 [==============================] - 1s 2ms/step - loss: 0.2881 - val_loss: 0.3330\n",
      "Epoch 44/100\n",
      "413/413 [==============================] - 1s 3ms/step - loss: 0.2889 - val_loss: 0.3314\n",
      "Epoch 45/100\n",
      "413/413 [==============================] - 1s 2ms/step - loss: 0.2866 - val_loss: 0.3517\n"
     ]
    }
   ],
   "source": [
    "history = model.fit(X_train, y_train, epochs=100,validation_split=0.2, verbose=1, callbacks=[early_stop] )"
   ]
  },
  {
   "cell_type": "code",
   "execution_count": 33,
   "metadata": {},
   "outputs": [
    {
     "data": {
      "image/png": "[encoded data removed]",
      "text/plain": [
       "<Figure size 640x480 with 1 Axes>"
      ]
     },
     "metadata": {},
     "output_type": "display_data"
    }
   ],
   "source": [
    "plot_loss(history)"
   ]
  },
  {
   "cell_type": "code",
   "execution_count": 34,
   "metadata": {},
   "outputs": [
    {
     "name": "stdout",
     "output_type": "stream",
     "text": [
      "129/129 [==============================] - 0s 2ms/step - loss: 0.3461\n"
     ]
    },
    {
     "data": {
      "text/plain": [
       "0.3461279273033142"
      ]
     },
     "execution_count": 34,
     "metadata": {},
     "output_type": "execute_result"
    }
   ],
   "source": [
    "model.evaluate(X_test,y_test)"
   ]
  },
  {
   "cell_type": "code",
   "execution_count": 35,
   "metadata": {},
   "outputs": [
    {
     "name": "stdout",
     "output_type": "stream",
     "text": [
      "Model: \"sequential_4\"\n",
      "_________________________________________________________________\n",
      " Layer (type)                Output Shape              Param #   \n",
      "=================================================================\n",
      " normalization (Normalizatio  (None, 8)                17        \n",
      " n)                                                              \n",
      "                                                                 \n",
      " dense_14 (Dense)            (None, 256)               2304      \n",
      "                                                                 \n",
      " dense_15 (Dense)            (None, 128)               32896     \n",
      "                                                                 \n",
      " dense_16 (Dense)            (None, 64)                8256      \n",
      "                                                                 \n",
      " dense_17 (Dense)            (None, 1)                 65        \n",
      "                                                                 \n",
      "=================================================================\n",
      "Total params: 43,538\n",
      "Trainable params: 43,521\n",
      "Non-trainable params: 17\n",
      "_________________________________________________________________\n"
     ]
    }
   ],
   "source": [
    "model.summary()"
   ]
  },
  {
   "cell_type": "markdown",
   "metadata": {},
   "source": []
  },
  {
   "cell_type": "code",
   "execution_count": 36,
   "metadata": {},
   "outputs": [
    {
     "data": {
      "text/plain": [
       "43538"
      ]
     },
     "execution_count": 36,
     "metadata": {},
     "output_type": "execute_result"
    }
   ],
   "source": [
    "model.count_params()"
   ]
  },
  {
   "cell_type": "code",
   "execution_count": null,
   "metadata": {},
   "outputs": [],
   "source": []
  }
 ],
 "metadata": {
  "kernelspec": {
   "display_name": "base",
   "language": "python",
   "name": "python3"
  },
  "language_info": {
   "codemirror_mode": {
    "name": "ipython",
    "version": 3
   },
   "file_extension": ".py",
   "mimetype": "text/x-python",
   "name": "python",
   "nbconvert_exporter": "python",
   "pygments_lexer": "ipython3",
   "version": "3.9.13"
  },
  "orig_nbformat": 4,
  "vscode": {
   "interpreter": {
    "hash": "d2af68a4b51633f13995ebfae92a57b161ed6e58c9d8595f65fa30edeb049295"
   }
  }
 },
 "nbformat": 4,
 "nbformat_minor": 2
}
